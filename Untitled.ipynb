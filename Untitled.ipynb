{
 "cells": [
  {
   "cell_type": "markdown",
   "metadata": {},
   "source": [
    "# Cifar-10 dataset"
   ]
  },
  {
   "cell_type": "code",
   "execution_count": 1,
   "metadata": {},
   "outputs": [],
   "source": [
    "import numpy as np\n",
    "import matplotlib.pyplot as plt\n",
    "import matplotlib.image as mpimg\n",
    "import pickle\n",
    "%matplotlib inline"
   ]
  },
  {
   "cell_type": "markdown",
   "metadata": {},
   "source": [
    "load the data"
   ]
  },
  {
   "cell_type": "code",
   "execution_count": 2,
   "metadata": {},
   "outputs": [],
   "source": [
    "def load_batch(batch_no):\n",
    "    cifar10_dit = \"./cifar-10-batches-py/\"\n",
    "    batch_file = cifar10_dit+\"data_batch_\"+str(batch_no)\n",
    "    with open(batch_file, 'rb') as fo:\n",
    "        batch = pickle.load(fo, encoding='bytes')\n",
    "        \n",
    "    return batch"
   ]
  },
  {
   "cell_type": "code",
   "execution_count": 3,
   "metadata": {},
   "outputs": [],
   "source": [
    "batch1 = load_batch(1)"
   ]
  },
  {
   "cell_type": "code",
   "execution_count": 4,
   "metadata": {},
   "outputs": [
    {
     "name": "stdout",
     "output_type": "stream",
     "text": [
      "Shape of data:  (10000, 3072)\n",
      "Shape of labels:  (10000,)\n"
     ]
    }
   ],
   "source": [
    "# first, let's get the features\n",
    "features = np.array(batch1[b'data'])\n",
    "labels = np.array(batch1[b'labels'])\n",
    "\n",
    "print(\"Shape of data: \", np.shape(features))\n",
    "print(\"Shape of labels: \", np.shape(labels))"
   ]
  },
  {
   "cell_type": "markdown",
   "metadata": {},
   "source": [
    "### Classes"
   ]
  },
  {
   "cell_type": "markdown",
   "metadata": {},
   "source": [
    "Let's look at the different classes in the dataset."
   ]
  },
  {
   "cell_type": "code",
   "execution_count": 5,
   "metadata": {},
   "outputs": [
    {
     "name": "stdout",
     "output_type": "stream",
     "text": [
      "[0 1 2 3 4 5 6 7 8 9]\n"
     ]
    }
   ],
   "source": [
    "print(np.unique(labels))"
   ]
  },
  {
   "cell_type": "markdown",
   "metadata": {},
   "source": [
    "the dataset has 10 distinct labels, from 0-9. To avoid getting confusde between the classes, let's use their names. "
   ]
  },
  {
   "cell_type": "code",
   "execution_count": 6,
   "metadata": {},
   "outputs": [],
   "source": [
    "def class_names():\n",
    "    return ['airplane', 'automobile', 'bird', 'cat', \n",
    "            'deer', 'dog', 'frog', 'horse', 'ship', 'truck']"
   ]
  },
  {
   "cell_type": "markdown",
   "metadata": {},
   "source": [
    "### images"
   ]
  },
  {
   "cell_type": "markdown",
   "metadata": {},
   "source": [
    "The batch data has shape (10000, 3072), corresponding to 10000 RGB images of size 32x32\n",
    "\n",
    "Let's reshape them."
   ]
  },
  {
   "cell_type": "code",
   "execution_count": 7,
   "metadata": {},
   "outputs": [
    {
     "name": "stdout",
     "output_type": "stream",
     "text": [
      "(10000, 32, 32, 3)\n"
     ]
    }
   ],
   "source": [
    "images = features.reshape(( np.shape(features)[0], 3, 32, 32 )).transpose(0, 2, 3, 1)\n",
    "print(np.shape(images))"
   ]
  },
  {
   "cell_type": "markdown",
   "metadata": {},
   "source": [
    "now the images have the shape that tensorflow is expecting, (width, height, channels)."
   ]
  },
  {
   "cell_type": "code",
   "execution_count": 12,
   "metadata": {},
   "outputs": [
    {
     "name": "stdout",
     "output_type": "stream",
     "text": [
      "Min:  0\n",
      "Max:  255\n",
      "Mean:  121.04103444010417\n",
      "Std:  64.39060047846118\n"
     ]
    }
   ],
   "source": [
    "print(\"Min: \", np.min(images))\n",
    "print(\"Max: \", np.max(images))\n",
    "print(\"Mean: \", np.mean(images))\n",
    "print(\"Std: \", np.std(images))"
   ]
  },
  {
   "cell_type": "markdown",
   "metadata": {},
   "source": [
    "### visualizing the dataset"
   ]
  },
  {
   "cell_type": "markdown",
   "metadata": {},
   "source": [
    "Let's start with the batch that we selected. \n",
    "\n",
    "1. Are the classes distributed uniformly?\n",
    "2. What is the varaince of the features?"
   ]
  },
  {
   "cell_type": "code",
   "execution_count": 9,
   "metadata": {},
   "outputs": [
    {
     "name": "stdout",
     "output_type": "stream",
     "text": [
      "Sample counts of airplane : 1005\n",
      "Sample counts of automobile : 974\n",
      "Sample counts of bird : 1032\n",
      "Sample counts of cat : 1016\n",
      "Sample counts of deer : 999\n",
      "Sample counts of dog : 937\n",
      "Sample counts of frog : 1030\n",
      "Sample counts of horse : 1001\n",
      "Sample counts of ship : 1025\n",
      "Sample counts of truck : 981\n"
     ]
    }
   ],
   "source": [
    "# Number of samples per class:\n",
    "classes = class_names()\n",
    "for i, c in enumerate(classes):\n",
    "    print('Sample counts of {} :'.format(c), len(labels[labels==i]))"
   ]
  },
  {
   "cell_type": "markdown",
   "metadata": {},
   "source": [
    "Now pick random images from the dataset."
   ]
  },
  {
   "cell_type": "markdown",
   "metadata": {},
   "source": [
    "TODO: print out the mean and variance of the features."
   ]
  },
  {
   "cell_type": "code",
   "execution_count": 10,
   "metadata": {},
   "outputs": [
    {
     "data": {
      "image/png": "[encoded data removed]",
      "text/plain": [
       "<Figure size 864x864 with 6 Axes>"
      ]
     },
     "metadata": {
      "needs_background": "light"
     },
     "output_type": "display_data"
    }
   ],
   "source": [
    "fig, axs = plt.subplots(2, 3, figsize=(12, 12))\n",
    "\n",
    "axs[0][0].imshow(images[0])\n",
    "axs[0][0].set_title(str(classes[labels[0]]))\n",
    "\n",
    "axs[0][1].imshow(images[1])\n",
    "axs[0][1].set_title(str(classes[labels[1]]))\n",
    "\n",
    "axs[0][2].imshow(images[2])\n",
    "axs[0][2].set_title(str(classes[labels[2]]))\n",
    "\n",
    "axs[1][0].imshow(images[3])\n",
    "axs[1][0].set_title(str(classes[labels[3]]))\n",
    "\n",
    "axs[1][1].imshow(images[4])\n",
    "axs[1][1].set_title(str(classes[labels[4]]))\n",
    "\n",
    "axs[1][2].imshow(images[5])\n",
    "axs[1][2].set_title(str(classes[labels[5]]))\n",
    "\n",
    "plt.show()"
   ]
  },
  {
   "cell_type": "markdown",
   "metadata": {},
   "source": [
    "### TODO: Data augmentation"
   ]
  },
  {
   "cell_type": "code",
   "execution_count": null,
   "metadata": {},
   "outputs": [],
   "source": []
  },
  {
   "cell_type": "markdown",
   "metadata": {},
   "source": [
    "### Preprocessing"
   ]
  },
  {
   "cell_type": "markdown",
   "metadata": {},
   "source": [
    "Preprocessing options:\n",
    "1. Divide by 225? or something like that\n",
    "2. Normalize and standarize so they have a mean of 0 and std of 1\n",
    "3. Min-max normalization"
   ]
  },
  {
   "cell_type": "code",
   "execution_count": 14,
   "metadata": {},
   "outputs": [
    {
     "name": "stdout",
     "output_type": "stream",
     "text": [
      "0.0 1.0\n"
     ]
    }
   ],
   "source": [
    "# First, we notalize the images by dividing by the max. value. \n",
    "# For now, this is the only preprocessing step on the images. \n",
    "\n",
    "images = images/np.max(images) # divide by 225\n",
    "print(np.min(images), np.max(images)) # confirm normalization"
   ]
  },
  {
   "cell_type": "markdown",
   "metadata": {},
   "source": [
    "We also want to encode the labels into a vector. As we saw in class, this is to avoid any ranking in the classes."
   ]
  },
  {
   "cell_type": "code",
   "execution_count": 16,
   "metadata": {},
   "outputs": [],
   "source": [
    "encoded_labels = np.zeros((len(labels), 10))\n",
    "for i, val in enumerate(labels):\n",
    "    encoded_labels[i][val] += 1\n",
    "    \n",
    "train_labels = encoded_labels"
   ]
  },
  {
   "cell_type": "markdown",
   "metadata": {},
   "source": [
    "## CNN"
   ]
  },
  {
   "cell_type": "code",
   "execution_count": 23,
   "metadata": {},
   "outputs": [],
   "source": [
    "import tensorflow as tf\n",
    "from tensorflow.keras.layers import Input, Dense, Conv2D\n",
    "from tensorflow.keras.layers import MaxPooling2D, Flatten\n",
    "from tensorflow.keras.models import Sequential"
   ]
  },
  {
   "cell_type": "code",
   "execution_count": null,
   "metadata": {},
   "outputs": [],
   "source": [
    "model = Sequential()\n",
    "model.add(Conv2D(32, (3, 3), activation='relu', kernel_initializer='he_uniform', padding='same', input_shape=(32, 32, 3)))\n",
    "model.add(Conv2D(32, (3, 3), activation='relu', kernel_initializer='he_uniform', padding='same'))\n",
    "model.add(MaxPooling2D((2, 2)))\n",
    "model.add(Conv2D(64, (3, 3), activation='relu', kernel_initializer='he_uniform', padding='same'))\n",
    "model.add(Conv2D(64, (3, 3), activation='relu', kernel_initializer='he_uniform', padding='same'))\n",
    "model.add(MaxPooling2D((2, 2)))\n",
    "model.add(Conv2D(128, (3, 3), activation='relu', kernel_initializer='he_uniform', padding='same'))\n",
    "model.add(Conv2D(128, (3, 3), activation='relu', kernel_initializer='he_uniform', padding='same'))\n",
    "model.add(MaxPooling2D((2, 2)))"
   ]
  },
  {
   "cell_type": "code",
   "execution_count": null,
   "metadata": {},
   "outputs": [],
   "source": []
  }
 ],
 "metadata": {
  "kernelspec": {
   "display_name": "Python 3",
   "language": "python",
   "name": "python3"
  },
  "language_info": {
   "codemirror_mode": {
    "name": "ipython",
    "version": 3
   },
   "file_extension": ".py",
   "mimetype": "text/x-python",
   "name": "python",
   "nbconvert_exporter": "python",
   "pygments_lexer": "ipython3",
   "version": "3.7.3"
  }
 },
 "nbformat": 4,
 "nbformat_minor": 2
}
