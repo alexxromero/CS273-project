{
 "cells": [
  {
   "cell_type": "markdown",
   "metadata": {},
   "source": [
    "based on https://machinelearningmastery.com/how-to-develop-a-cnn-from-scratch-for-cifar-10-photo-classification/\n",
    "data exploration form https://pdfs.semanticscholar.org/de8b/25cc7203a5be8d59526173f5e67a752bc4c7.pdf"
   ]
  },
  {
   "cell_type": "code",
   "execution_count": 1,
   "metadata": {
    "scrolled": true
   },
   "outputs": [
    {
     "name": "stderr",
     "output_type": "stream",
     "text": [
      "/home/alex/.virtualenvs/python3_ml/lib/python3.6/site-packages/tensorflow/python/framework/dtypes.py:516: FutureWarning: Passing (type, 1) or '1type' as a synonym of type is deprecated; in a future version of numpy, it will be understood as (type, (1,)) / '(1,)type'.\n",
      "  _np_qint8 = np.dtype([(\"qint8\", np.int8, 1)])\n",
      "/home/alex/.virtualenvs/python3_ml/lib/python3.6/site-packages/tensorflow/python/framework/dtypes.py:517: FutureWarning: Passing (type, 1) or '1type' as a synonym of type is deprecated; in a future version of numpy, it will be understood as (type, (1,)) / '(1,)type'.\n",
      "  _np_quint8 = np.dtype([(\"quint8\", np.uint8, 1)])\n",
      "/home/alex/.virtualenvs/python3_ml/lib/python3.6/site-packages/tensorflow/python/framework/dtypes.py:518: FutureWarning: Passing (type, 1) or '1type' as a synonym of type is deprecated; in a future version of numpy, it will be understood as (type, (1,)) / '(1,)type'.\n",
      "  _np_qint16 = np.dtype([(\"qint16\", np.int16, 1)])\n",
      "/home/alex/.virtualenvs/python3_ml/lib/python3.6/site-packages/tensorflow/python/framework/dtypes.py:519: FutureWarning: Passing (type, 1) or '1type' as a synonym of type is deprecated; in a future version of numpy, it will be understood as (type, (1,)) / '(1,)type'.\n",
      "  _np_quint16 = np.dtype([(\"quint16\", np.uint16, 1)])\n",
      "/home/alex/.virtualenvs/python3_ml/lib/python3.6/site-packages/tensorflow/python/framework/dtypes.py:520: FutureWarning: Passing (type, 1) or '1type' as a synonym of type is deprecated; in a future version of numpy, it will be understood as (type, (1,)) / '(1,)type'.\n",
      "  _np_qint32 = np.dtype([(\"qint32\", np.int32, 1)])\n",
      "/home/alex/.virtualenvs/python3_ml/lib/python3.6/site-packages/tensorflow/python/framework/dtypes.py:525: FutureWarning: Passing (type, 1) or '1type' as a synonym of type is deprecated; in a future version of numpy, it will be understood as (type, (1,)) / '(1,)type'.\n",
      "  np_resource = np.dtype([(\"resource\", np.ubyte, 1)])\n"
     ]
    },
    {
     "name": "stdout",
     "output_type": "stream",
     "text": [
      "Num GPUs Available:  1\n",
      "WARNING:tensorflow:From /home/alex/Desktop/CS273_project/AR_functions.py:19: The name tf.set_random_seed is deprecated. Please use tf.compat.v1.set_random_seed instead.\n",
      "\n"
     ]
    },
    {
     "name": "stderr",
     "output_type": "stream",
     "text": [
      "/home/alex/.virtualenvs/python3_ml/lib/python3.6/site-packages/tensorboard/compat/tensorflow_stub/dtypes.py:541: FutureWarning: Passing (type, 1) or '1type' as a synonym of type is deprecated; in a future version of numpy, it will be understood as (type, (1,)) / '(1,)type'.\n",
      "  _np_qint8 = np.dtype([(\"qint8\", np.int8, 1)])\n",
      "/home/alex/.virtualenvs/python3_ml/lib/python3.6/site-packages/tensorboard/compat/tensorflow_stub/dtypes.py:542: FutureWarning: Passing (type, 1) or '1type' as a synonym of type is deprecated; in a future version of numpy, it will be understood as (type, (1,)) / '(1,)type'.\n",
      "  _np_quint8 = np.dtype([(\"quint8\", np.uint8, 1)])\n",
      "/home/alex/.virtualenvs/python3_ml/lib/python3.6/site-packages/tensorboard/compat/tensorflow_stub/dtypes.py:543: FutureWarning: Passing (type, 1) or '1type' as a synonym of type is deprecated; in a future version of numpy, it will be understood as (type, (1,)) / '(1,)type'.\n",
      "  _np_qint16 = np.dtype([(\"qint16\", np.int16, 1)])\n",
      "/home/alex/.virtualenvs/python3_ml/lib/python3.6/site-packages/tensorboard/compat/tensorflow_stub/dtypes.py:544: FutureWarning: Passing (type, 1) or '1type' as a synonym of type is deprecated; in a future version of numpy, it will be understood as (type, (1,)) / '(1,)type'.\n",
      "  _np_quint16 = np.dtype([(\"quint16\", np.uint16, 1)])\n",
      "/home/alex/.virtualenvs/python3_ml/lib/python3.6/site-packages/tensorboard/compat/tensorflow_stub/dtypes.py:545: FutureWarning: Passing (type, 1) or '1type' as a synonym of type is deprecated; in a future version of numpy, it will be understood as (type, (1,)) / '(1,)type'.\n",
      "  _np_qint32 = np.dtype([(\"qint32\", np.int32, 1)])\n",
      "/home/alex/.virtualenvs/python3_ml/lib/python3.6/site-packages/tensorboard/compat/tensorflow_stub/dtypes.py:550: FutureWarning: Passing (type, 1) or '1type' as a synonym of type is deprecated; in a future version of numpy, it will be understood as (type, (1,)) / '(1,)type'.\n",
      "  np_resource = np.dtype([(\"resource\", np.ubyte, 1)])\n"
     ]
    }
   ],
   "source": [
    "from AR_functions import *"
   ]
  },
  {
   "cell_type": "code",
   "execution_count": 2,
   "metadata": {},
   "outputs": [],
   "source": [
    "tensorflow.set_random_seed(123)\n",
    "np.random.seed(123)"
   ]
  },
  {
   "cell_type": "markdown",
   "metadata": {},
   "source": [
    "read and save the training and testing sets"
   ]
  },
  {
   "cell_type": "code",
   "execution_count": 3,
   "metadata": {},
   "outputs": [],
   "source": [
    "(x_train, y_train), (x_test, y_test) = load_dataset()"
   ]
  },
  {
   "cell_type": "markdown",
   "metadata": {},
   "source": [
    "preprocess the images by dividing over 225. Also transform the labels to categorical"
   ]
  },
  {
   "cell_type": "code",
   "execution_count": 4,
   "metadata": {},
   "outputs": [],
   "source": [
    "x_train, x_test = preprocessImages(x_train, x_test)"
   ]
  },
  {
   "cell_type": "markdown",
   "metadata": {},
   "source": [
    "define the model"
   ]
  },
  {
   "cell_type": "code",
   "execution_count": 5,
   "metadata": {},
   "outputs": [],
   "source": [
    "def define_model():\n",
    "    # define architecture\n",
    "    model = Sequential()\n",
    "    model.add(Conv2D(32, (3, 3), padding='same', activation='relu',\n",
    "                     kernel_initializer='he_uniform',\n",
    "                     input_shape=x_train.shape[1:]))\n",
    "    model.add(Conv2D(32, (3, 3), padding='same', activation='relu',\n",
    "                    kernel_initializer='he_uniform'))\n",
    "    model.add(MaxPooling2D(pool_size=(2, 2)))\n",
    "    model.add(Flatten())\n",
    "    model.add(Dense(128, activation='relu', kernel_initializer='he_uniform'))\n",
    "    model.add(Dense(10, activation='softmax'))\n",
    "    # compile the model \n",
    "    opt = SGD(lr=0.001, momentum=0.9)\n",
    "    model.compile(optimizer=opt, loss='categorical_crossentropy', metrics=['accuracy'])\n",
    "    \n",
    "    return model"
   ]
  },
  {
   "cell_type": "code",
   "execution_count": 6,
   "metadata": {
    "scrolled": false
   },
   "outputs": [
    {
     "name": "stdout",
     "output_type": "stream",
     "text": [
      "WARNING:tensorflow:From /home/alex/.virtualenvs/python3_ml/lib/python3.6/site-packages/tensorflow/python/ops/init_ops.py:1251: calling VarianceScaling.__init__ (from tensorflow.python.ops.init_ops) with dtype is deprecated and will be removed in a future version.\n",
      "Instructions for updating:\n",
      "Call initializer instance with the dtype argument instead of passing it to the constructor\n",
      "Train on 50000 samples, validate on 10000 samples\n",
      "Epoch 1/100\n",
      "50000/50000 [==============================] - 7s 137us/sample - loss: 1.7211 - acc: 0.3845 - val_loss: 1.5062 - val_acc: 0.4549\n",
      "Epoch 2/100\n",
      "50000/50000 [==============================] - 6s 119us/sample - loss: 1.3846 - acc: 0.5114 - val_loss: 1.3227 - val_acc: 0.5322\n",
      "Epoch 3/100\n",
      "50000/50000 [==============================] - 5s 108us/sample - loss: 1.2444 - acc: 0.5634 - val_loss: 1.2286 - val_acc: 0.5613\n",
      "Epoch 4/100\n",
      "50000/50000 [==============================] - 6s 113us/sample - loss: 1.1447 - acc: 0.5995 - val_loss: 1.1525 - val_acc: 0.5954\n",
      "Epoch 5/100\n",
      "50000/50000 [==============================] - 6s 117us/sample - loss: 1.0644 - acc: 0.6301 - val_loss: 1.0947 - val_acc: 0.6139\n",
      "Epoch 6/100\n",
      "50000/50000 [==============================] - 6s 112us/sample - loss: 1.0000 - acc: 0.6491 - val_loss: 1.0703 - val_acc: 0.6225\n",
      "Epoch 7/100\n",
      "50000/50000 [==============================] - 6s 111us/sample - loss: 0.9398 - acc: 0.6730 - val_loss: 1.0775 - val_acc: 0.6157\n",
      "Epoch 8/100\n",
      "50000/50000 [==============================] - 6s 116us/sample - loss: 0.8845 - acc: 0.6932 - val_loss: 1.0199 - val_acc: 0.6407\n",
      "Epoch 9/100\n",
      "50000/50000 [==============================] - 5s 97us/sample - loss: 0.8387 - acc: 0.7102 - val_loss: 0.9997 - val_acc: 0.6549\n",
      "Epoch 10/100\n",
      "50000/50000 [==============================] - 6s 111us/sample - loss: 0.7893 - acc: 0.7259 - val_loss: 1.0239 - val_acc: 0.6421\n",
      "Epoch 11/100\n",
      "50000/50000 [==============================] - 5s 97us/sample - loss: 0.7489 - acc: 0.7415 - val_loss: 0.9786 - val_acc: 0.6623\n",
      "Epoch 12/100\n",
      "50000/50000 [==============================] - 6s 112us/sample - loss: 0.7047 - acc: 0.7580 - val_loss: 0.9768 - val_acc: 0.6646\n",
      "Epoch 13/100\n",
      "50000/50000 [==============================] - 6s 110us/sample - loss: 0.6625 - acc: 0.7719 - val_loss: 0.9837 - val_acc: 0.6661\n",
      "Epoch 14/100\n",
      "50000/50000 [==============================] - 6s 110us/sample - loss: 0.6169 - acc: 0.7889 - val_loss: 0.9855 - val_acc: 0.6700\n",
      "Epoch 15/100\n",
      "50000/50000 [==============================] - 5s 105us/sample - loss: 0.5724 - acc: 0.8047 - val_loss: 0.9749 - val_acc: 0.6729\n",
      "Epoch 16/100\n",
      "50000/50000 [==============================] - 6s 113us/sample - loss: 0.5327 - acc: 0.8190 - val_loss: 0.9998 - val_acc: 0.6733\n",
      "Epoch 17/100\n",
      "50000/50000 [==============================] - 5s 104us/sample - loss: 0.4888 - acc: 0.8351 - val_loss: 1.0141 - val_acc: 0.6757\n",
      "Epoch 18/100\n",
      "50000/50000 [==============================] - 6s 113us/sample - loss: 0.4434 - acc: 0.8513 - val_loss: 1.0757 - val_acc: 0.6632\n",
      "Epoch 19/100\n",
      "50000/50000 [==============================] - 6s 115us/sample - loss: 0.4049 - acc: 0.8647 - val_loss: 1.0838 - val_acc: 0.6705\n",
      "Epoch 20/100\n",
      "50000/50000 [==============================] - 5s 101us/sample - loss: 0.3637 - acc: 0.8831 - val_loss: 1.1154 - val_acc: 0.6696\n",
      "Epoch 21/100\n",
      "50000/50000 [==============================] - 6s 111us/sample - loss: 0.3303 - acc: 0.8933 - val_loss: 1.1397 - val_acc: 0.6733\n",
      "Epoch 22/100\n",
      "50000/50000 [==============================] - 5s 93us/sample - loss: 0.2860 - acc: 0.9112 - val_loss: 1.1867 - val_acc: 0.6670\n",
      "Epoch 23/100\n",
      "50000/50000 [==============================] - 6s 111us/sample - loss: 0.2504 - acc: 0.9232 - val_loss: 1.2238 - val_acc: 0.6732\n",
      "Epoch 24/100\n",
      "50000/50000 [==============================] - 5s 107us/sample - loss: 0.2186 - acc: 0.9347 - val_loss: 1.2580 - val_acc: 0.6694\n",
      "Epoch 25/100\n",
      "50000/50000 [==============================] - 5s 101us/sample - loss: 0.1851 - acc: 0.9473 - val_loss: 1.3694 - val_acc: 0.6612\n",
      "Epoch 26/100\n",
      "50000/50000 [==============================] - 5s 107us/sample - loss: 0.1573 - acc: 0.9579 - val_loss: 1.4128 - val_acc: 0.6643\n",
      "Epoch 27/100\n",
      "50000/50000 [==============================] - 5s 103us/sample - loss: 0.1347 - acc: 0.9645 - val_loss: 1.4915 - val_acc: 0.6586\n",
      "Epoch 28/100\n",
      "50000/50000 [==============================] - 5s 107us/sample - loss: 0.1076 - acc: 0.9752 - val_loss: 1.4939 - val_acc: 0.6691\n",
      "Epoch 29/100\n",
      "50000/50000 [==============================] - 5s 94us/sample - loss: 0.0872 - acc: 0.9817 - val_loss: 1.5602 - val_acc: 0.6676\n",
      "Epoch 30/100\n",
      "50000/50000 [==============================] - 6s 112us/sample - loss: 0.0682 - acc: 0.9884 - val_loss: 1.6182 - val_acc: 0.6637\n",
      "Epoch 31/100\n",
      "50000/50000 [==============================] - 5s 99us/sample - loss: 0.0531 - acc: 0.9924 - val_loss: 1.6743 - val_acc: 0.6634\n",
      "Epoch 32/100\n",
      "50000/50000 [==============================] - 5s 105us/sample - loss: 0.0428 - acc: 0.9949 - val_loss: 1.7150 - val_acc: 0.6654\n",
      "Epoch 33/100\n",
      "50000/50000 [==============================] - 5s 106us/sample - loss: 0.0327 - acc: 0.9972 - val_loss: 1.7941 - val_acc: 0.6695\n",
      "Epoch 34/100\n",
      "50000/50000 [==============================] - 5s 109us/sample - loss: 0.0262 - acc: 0.9981 - val_loss: 1.8458 - val_acc: 0.6648\n",
      "Epoch 35/100\n",
      "50000/50000 [==============================] - 5s 104us/sample - loss: 0.0200 - acc: 0.9989 - val_loss: 1.8482 - val_acc: 0.6706\n",
      "Epoch 36/100\n",
      "50000/50000 [==============================] - 5s 107us/sample - loss: 0.0171 - acc: 0.9991 - val_loss: 1.9057 - val_acc: 0.6667\n",
      "Epoch 37/100\n",
      "50000/50000 [==============================] - 5s 101us/sample - loss: 0.0146 - acc: 0.9992 - val_loss: 1.9592 - val_acc: 0.6687\n",
      "Epoch 38/100\n",
      "50000/50000 [==============================] - 5s 93us/sample - loss: 0.0121 - acc: 0.9995 - val_loss: 1.9730 - val_acc: 0.6675\n",
      "Epoch 39/100\n",
      "50000/50000 [==============================] - 6s 116us/sample - loss: 0.0105 - acc: 0.9996 - val_loss: 2.0047 - val_acc: 0.6704\n",
      "Epoch 40/100\n",
      "50000/50000 [==============================] - 5s 93us/sample - loss: 0.0098 - acc: 0.9996 - val_loss: 2.0325 - val_acc: 0.6699\n",
      "Epoch 41/100\n",
      "50000/50000 [==============================] - 5s 100us/sample - loss: 0.0085 - acc: 0.9997 - val_loss: 2.0695 - val_acc: 0.6683\n",
      "Epoch 42/100\n",
      "50000/50000 [==============================] - 5s 104us/sample - loss: 0.0070 - acc: 0.9999 - val_loss: 2.0930 - val_acc: 0.6692\n",
      "Epoch 43/100\n",
      "50000/50000 [==============================] - 5s 95us/sample - loss: 0.0064 - acc: 0.9999 - val_loss: 2.1131 - val_acc: 0.6700\n",
      "Epoch 44/100\n",
      "50000/50000 [==============================] - 5s 105us/sample - loss: 0.0059 - acc: 0.9999 - val_loss: 2.1442 - val_acc: 0.6689\n",
      "Epoch 45/100\n",
      "50000/50000 [==============================] - 5s 104us/sample - loss: 0.0053 - acc: 1.0000 - val_loss: 2.1671 - val_acc: 0.6714\n",
      "Epoch 46/100\n",
      "50000/50000 [==============================] - 5s 106us/sample - loss: 0.0050 - acc: 1.0000 - val_loss: 2.1886 - val_acc: 0.6710\n",
      "Epoch 47/100\n",
      "50000/50000 [==============================] - 5s 105us/sample - loss: 0.0046 - acc: 0.9999 - val_loss: 2.2058 - val_acc: 0.6699\n",
      "Epoch 48/100\n",
      "50000/50000 [==============================] - 5s 107us/sample - loss: 0.0043 - acc: 1.0000 - val_loss: 2.2192 - val_acc: 0.6702\n",
      "Epoch 49/100\n",
      "50000/50000 [==============================] - 5s 106us/sample - loss: 0.0040 - acc: 1.0000 - val_loss: 2.2358 - val_acc: 0.6698\n",
      "Epoch 50/100\n",
      "50000/50000 [==============================] - 5s 97us/sample - loss: 0.0038 - acc: 1.0000 - val_loss: 2.2540 - val_acc: 0.6707\n",
      "Epoch 51/100\n",
      "50000/50000 [==============================] - 5s 105us/sample - loss: 0.0035 - acc: 1.0000 - val_loss: 2.2718 - val_acc: 0.6700\n",
      "Epoch 52/100\n",
      "50000/50000 [==============================] - 5s 95us/sample - loss: 0.0033 - acc: 1.0000 - val_loss: 2.2857 - val_acc: 0.6702\n",
      "Epoch 53/100\n",
      "50000/50000 [==============================] - 5s 109us/sample - loss: 0.0032 - acc: 1.0000 - val_loss: 2.3043 - val_acc: 0.6701\n",
      "Epoch 54/100\n",
      "50000/50000 [==============================] - 4s 85us/sample - loss: 0.0030 - acc: 1.0000 - val_loss: 2.3138 - val_acc: 0.6705\n",
      "Epoch 55/100\n",
      "50000/50000 [==============================] - 5s 101us/sample - loss: 0.0028 - acc: 1.0000 - val_loss: 2.3342 - val_acc: 0.6695\n"
     ]
    },
    {
     "name": "stdout",
     "output_type": "stream",
     "text": [
      "Epoch 56/100\n",
      "50000/50000 [==============================] - 5s 94us/sample - loss: 0.0027 - acc: 1.0000 - val_loss: 2.3477 - val_acc: 0.6708\n",
      "Epoch 57/100\n",
      "50000/50000 [==============================] - 5s 109us/sample - loss: 0.0026 - acc: 1.0000 - val_loss: 2.3558 - val_acc: 0.6684\n",
      "Epoch 58/100\n",
      "50000/50000 [==============================] - 5s 109us/sample - loss: 0.0025 - acc: 1.0000 - val_loss: 2.3694 - val_acc: 0.6703\n",
      "Epoch 59/100\n",
      "50000/50000 [==============================] - 6s 119us/sample - loss: 0.0023 - acc: 1.0000 - val_loss: 2.3831 - val_acc: 0.6699\n",
      "Epoch 60/100\n",
      "50000/50000 [==============================] - 6s 119us/sample - loss: 0.0024 - acc: 1.0000 - val_loss: 2.3905 - val_acc: 0.6705\n",
      "Epoch 61/100\n",
      "50000/50000 [==============================] - 5s 107us/sample - loss: 0.0022 - acc: 1.0000 - val_loss: 2.4059 - val_acc: 0.6704\n",
      "Epoch 62/100\n",
      "50000/50000 [==============================] - 6s 112us/sample - loss: 0.0021 - acc: 1.0000 - val_loss: 2.4175 - val_acc: 0.6706\n",
      "Epoch 63/100\n",
      "50000/50000 [==============================] - 6s 121us/sample - loss: 0.0020 - acc: 1.0000 - val_loss: 2.4294 - val_acc: 0.6681\n",
      "Epoch 64/100\n",
      "50000/50000 [==============================] - 6s 115us/sample - loss: 0.0019 - acc: 1.0000 - val_loss: 2.4420 - val_acc: 0.6701\n",
      "Epoch 65/100\n",
      "50000/50000 [==============================] - 5s 109us/sample - loss: 0.0019 - acc: 1.0000 - val_loss: 2.4462 - val_acc: 0.6709\n",
      "Epoch 66/100\n",
      "50000/50000 [==============================] - 5s 103us/sample - loss: 0.0018 - acc: 1.0000 - val_loss: 2.4580 - val_acc: 0.6693\n",
      "Epoch 67/100\n",
      "50000/50000 [==============================] - 5s 105us/sample - loss: 0.0018 - acc: 1.0000 - val_loss: 2.4641 - val_acc: 0.6692\n",
      "Epoch 68/100\n",
      "50000/50000 [==============================] - 4s 87us/sample - loss: 0.0017 - acc: 1.0000 - val_loss: 2.4765 - val_acc: 0.6700\n",
      "Epoch 69/100\n",
      "50000/50000 [==============================] - 2s 48us/sample - loss: 0.0016 - acc: 1.0000 - val_loss: 2.4880 - val_acc: 0.6698\n",
      "Epoch 70/100\n",
      "50000/50000 [==============================] - 4s 79us/sample - loss: 0.0016 - acc: 1.0000 - val_loss: 2.4957 - val_acc: 0.6714\n",
      "Epoch 71/100\n",
      "50000/50000 [==============================] - 5s 102us/sample - loss: 0.0016 - acc: 1.0000 - val_loss: 2.5047 - val_acc: 0.6698\n",
      "Epoch 72/100\n",
      "50000/50000 [==============================] - 5s 97us/sample - loss: 0.0015 - acc: 1.0000 - val_loss: 2.5133 - val_acc: 0.6694\n",
      "Epoch 73/100\n",
      "50000/50000 [==============================] - 5s 104us/sample - loss: 0.0015 - acc: 1.0000 - val_loss: 2.5211 - val_acc: 0.6688\n",
      "Epoch 74/100\n",
      "50000/50000 [==============================] - 5s 109us/sample - loss: 0.0014 - acc: 1.0000 - val_loss: 2.5300 - val_acc: 0.6692\n",
      "Epoch 75/100\n",
      "50000/50000 [==============================] - 5s 104us/sample - loss: 0.0014 - acc: 1.0000 - val_loss: 2.5402 - val_acc: 0.6697\n",
      "Epoch 76/100\n",
      "50000/50000 [==============================] - 6s 116us/sample - loss: 0.0013 - acc: 1.0000 - val_loss: 2.5438 - val_acc: 0.6699\n",
      "Epoch 77/100\n",
      "50000/50000 [==============================] - 6s 111us/sample - loss: 0.0013 - acc: 1.0000 - val_loss: 2.5524 - val_acc: 0.6696\n",
      "Epoch 78/100\n",
      "50000/50000 [==============================] - 5s 102us/sample - loss: 0.0013 - acc: 1.0000 - val_loss: 2.5618 - val_acc: 0.6690\n",
      "Epoch 79/100\n",
      "50000/50000 [==============================] - 4s 83us/sample - loss: 0.0012 - acc: 1.0000 - val_loss: 2.5690 - val_acc: 0.6691\n",
      "Epoch 80/100\n",
      "50000/50000 [==============================] - 4s 88us/sample - loss: 0.0012 - acc: 1.0000 - val_loss: 2.5753 - val_acc: 0.6694\n",
      "Epoch 81/100\n",
      "50000/50000 [==============================] - 5s 96us/sample - loss: 0.0012 - acc: 1.0000 - val_loss: 2.5823 - val_acc: 0.6695\n",
      "Epoch 82/100\n",
      "50000/50000 [==============================] - 5s 106us/sample - loss: 0.0012 - acc: 1.0000 - val_loss: 2.5883 - val_acc: 0.6692\n",
      "Epoch 83/100\n",
      "50000/50000 [==============================] - 5s 91us/sample - loss: 0.0011 - acc: 1.0000 - val_loss: 2.5964 - val_acc: 0.6690\n",
      "Epoch 84/100\n",
      "50000/50000 [==============================] - 5s 97us/sample - loss: 0.0011 - acc: 1.0000 - val_loss: 2.6045 - val_acc: 0.6709\n",
      "Epoch 85/100\n",
      "50000/50000 [==============================] - 5s 101us/sample - loss: 0.0011 - acc: 1.0000 - val_loss: 2.6103 - val_acc: 0.6703\n",
      "Epoch 86/100\n",
      "50000/50000 [==============================] - 5s 100us/sample - loss: 0.0011 - acc: 1.0000 - val_loss: 2.6145 - val_acc: 0.6711\n",
      "Epoch 87/100\n",
      "50000/50000 [==============================] - 5s 90us/sample - loss: 0.0010 - acc: 1.0000 - val_loss: 2.6270 - val_acc: 0.6688\n",
      "Epoch 88/100\n",
      "50000/50000 [==============================] - 5s 98us/sample - loss: 0.0010 - acc: 1.0000 - val_loss: 2.6313 - val_acc: 0.6694\n",
      "Epoch 89/100\n",
      "50000/50000 [==============================] - 5s 98us/sample - loss: 9.9594e-04 - acc: 1.0000 - val_loss: 2.6382 - val_acc: 0.6694\n",
      "Epoch 90/100\n",
      "50000/50000 [==============================] - 5s 96us/sample - loss: 9.7673e-04 - acc: 1.0000 - val_loss: 2.6421 - val_acc: 0.6683\n",
      "Epoch 91/100\n",
      "50000/50000 [==============================] - 5s 97us/sample - loss: 9.5424e-04 - acc: 1.0000 - val_loss: 2.6498 - val_acc: 0.6693\n",
      "Epoch 92/100\n",
      "50000/50000 [==============================] - 5s 105us/sample - loss: 9.3939e-04 - acc: 1.0000 - val_loss: 2.6550 - val_acc: 0.6691\n",
      "Epoch 93/100\n",
      "50000/50000 [==============================] - 5s 94us/sample - loss: 9.2237e-04 - acc: 1.0000 - val_loss: 2.6595 - val_acc: 0.6692\n",
      "Epoch 94/100\n",
      "50000/50000 [==============================] - 4s 87us/sample - loss: 9.0244e-04 - acc: 1.0000 - val_loss: 2.6671 - val_acc: 0.6683\n",
      "Epoch 95/100\n",
      "50000/50000 [==============================] - 5s 96us/sample - loss: 8.8947e-04 - acc: 1.0000 - val_loss: 2.6713 - val_acc: 0.6695\n",
      "Epoch 96/100\n",
      "50000/50000 [==============================] - 5s 97us/sample - loss: 8.7219e-04 - acc: 1.0000 - val_loss: 2.6776 - val_acc: 0.6681\n",
      "Epoch 97/100\n",
      "50000/50000 [==============================] - 5s 103us/sample - loss: 8.5359e-04 - acc: 1.0000 - val_loss: 2.6836 - val_acc: 0.6695\n",
      "Epoch 98/100\n",
      "50000/50000 [==============================] - 5s 97us/sample - loss: 8.4084e-04 - acc: 1.0000 - val_loss: 2.6899 - val_acc: 0.6690\n",
      "Epoch 99/100\n",
      "50000/50000 [==============================] - 5s 98us/sample - loss: 8.2429e-04 - acc: 1.0000 - val_loss: 2.6925 - val_acc: 0.6698\n",
      "Epoch 100/100\n",
      "50000/50000 [==============================] - 5s 96us/sample - loss: 8.1086e-04 - acc: 1.0000 - val_loss: 2.6978 - val_acc: 0.6686\n"
     ]
    }
   ],
   "source": [
    "epochs=100\n",
    "batch_size=64\n",
    "\n",
    "model = define_model()\n",
    "history = model.fit(x_train, y_train, \n",
    "                    epochs=epochs,\n",
    "                    batch_size=batch_size,\n",
    "                    validation_data=(x_test, y_test))"
   ]
  },
  {
   "cell_type": "code",
   "execution_count": 7,
   "metadata": {
    "scrolled": false
   },
   "outputs": [
    {
     "data": {
      "image/png": "[encoded data removed]",
      "text/plain": [
       "<Figure size 432x576 with 2 Axes>"
      ]
     },
     "metadata": {
      "needs_background": "light"
     },
     "output_type": "display_data"
    }
   ],
   "source": [
    "loss_acc_plots(history)"
   ]
  },
  {
   "cell_type": "code",
   "execution_count": 8,
   "metadata": {},
   "outputs": [
    {
     "name": "stdout",
     "output_type": "stream",
     "text": [
      "> 66.860\n"
     ]
    }
   ],
   "source": [
    "_, acc = model.evaluate(x_test, y_test, verbose=0)\n",
    "print('> %.3f' % (acc * 100.0))"
   ]
  },
  {
   "cell_type": "code",
   "execution_count": null,
   "metadata": {},
   "outputs": [],
   "source": []
  }
 ],
 "metadata": {
  "kernelspec": {
   "display_name": "Python 3",
   "language": "python",
   "name": "python3"
  },
  "language_info": {
   "codemirror_mode": {
    "name": "ipython",
    "version": 3
   },
   "file_extension": ".py",
   "mimetype": "text/x-python",
   "name": "python",
   "nbconvert_exporter": "python",
   "pygments_lexer": "ipython3",
   "version": "3.6.8"
  }
 },
 "nbformat": 4,
 "nbformat_minor": 2
}
