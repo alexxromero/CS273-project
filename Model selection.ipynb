{
 "cells": [
  {
   "cell_type": "markdown",
   "metadata": {},
   "source": [
    "# MODEL SELECTION"
   ]
  },
  {
   "cell_type": "markdown",
   "metadata": {},
   "source": [
    "We will focus on two different algorithms to classify our dataset. The first one is SVM and the other one is a Neural Network, because they have not been extensively practiced in class. The goal of this section is to choose which one of these two algorithms we will keep working on and tune in order to get a very good accuracy on the test dataset. "
   ]
  },
  {
   "cell_type": "markdown",
   "metadata": {},
   "source": [
    "For this purpose, and for computational efficiency, we will select a subset of the entire training set and proceed to do cross-validation on this new subset of the data to select what model provides the best cross-validation score. The one reporting the best cross-validation score will be the chosen one to fine-tune and practice in the entire dataset. The models selected are:\n",
    "\n",
    "- Linear Kernel SVM\n",
    "- Polynomial Kernel SVM\n",
    "- Simple Neural Network. "
   ]
  },
  {
   "cell_type": "code",
   "execution_count": 19,
   "metadata": {},
   "outputs": [],
   "source": [
    "from __future__ import absolute_import, division, print_function, unicode_literals\n",
    "\n",
    "import keras\n",
    "import tensorflow as tf\n",
    "import h5py\n",
    "\n",
    "from keras.utils import to_categorical\n",
    "from keras.datasets import cifar10\n",
    "import matplotlib.pyplot as plt\n",
    "from sklearn.model_selection import StratifiedKFold\n",
    "\n",
    "#Load original cifar10 dataset\n",
    "(train_images, train_labels), (test_images, test_labels) = cifar10.load_data()"
   ]
  },
  {
   "cell_type": "markdown",
   "metadata": {},
   "source": [
    "Shuffling the data"
   ]
  },
  {
   "cell_type": "code",
   "execution_count": 20,
   "metadata": {},
   "outputs": [],
   "source": [
    "from sklearn.utils import shuffle\n",
    "\n",
    "train_images_s, train_labels_s = shuffle(train_images,train_labels)\n",
    "\n",
    "xval_samples = 5000\n",
    "train_images_xval = train_images_s[:xval_samples]\n",
    "train_labels_xval = train_labels_s[:xval_samples]"
   ]
  },
  {
   "cell_type": "markdown",
   "metadata": {},
   "source": [
    "# LINEAR KERNEL SVM"
   ]
  },
  {
   "cell_type": "code",
   "execution_count": null,
   "metadata": {},
   "outputs": [],
   "source": []
  },
  {
   "cell_type": "code",
   "execution_count": 23,
   "metadata": {},
   "outputs": [
    {
     "name": "stdout",
     "output_type": "stream",
     "text": [
      "(3997,)\n",
      "(1003,)\n",
      "(3998,)\n",
      "(1002,)\n",
      "(4000,)\n",
      "(1000,)\n",
      "(4002,)\n",
      "(998,)\n",
      "(4003,)\n",
      "(997,)\n"
     ]
    }
   ],
   "source": [
    "train_images_xval_svm = train_images_xval.reshape(train_images_xval.shape[0], 32*32*3)\n",
    "\n",
    "\n",
    "kfold = StratifiedKFold(n_splits=5, shuffle=True)\n",
    "for train, test in kfold.split(train_images_xval_svm, train_labels_xval):\n",
    "   \n",
    "   "
   ]
  },
  {
   "cell_type": "code",
   "execution_count": null,
   "metadata": {},
   "outputs": [],
   "source": []
  }
 ],
 "metadata": {
  "kernelspec": {
   "display_name": "Python 3",
   "language": "python",
   "name": "python3"
  },
  "language_info": {
   "codemirror_mode": {
    "name": "ipython",
    "version": 3
   },
   "file_extension": ".py",
   "mimetype": "text/x-python",
   "name": "python",
   "nbconvert_exporter": "python",
   "pygments_lexer": "ipython3",
   "version": "3.6.9"
  }
 },
 "nbformat": 4,
 "nbformat_minor": 2
}
