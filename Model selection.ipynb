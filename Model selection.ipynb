{
 "cells": [
  {
   "cell_type": "markdown",
   "metadata": {},
   "source": [
    "# MODEL SELECTION"
   ]
  },
  {
   "cell_type": "markdown",
   "metadata": {},
   "source": [
    "We will focus on two different algorithms to classify our dataset. The first one is SVM and the other one is a Neural Network, because they have not been extensively practiced in class. The goal of this section is to choose which one of these two algorithms we will keep working on and tune in order to get a very good accuracy on the test dataset. "
   ]
  },
  {
   "cell_type": "markdown",
   "metadata": {},
   "source": [
    "For this purpose, and for computational efficiency, we will select a subset of the entire training set and proceed to do cross-validation on this new subset of the data to select what model provides the best cross-validation score. The one reporting the best cross-validation score will be the chosen one to fine-tune and practice in the entire dataset. The models selected are:\n",
    "\n",
    "- Linear Kernel SVM\n",
    "- Polynomial Kernel SVM\n",
    "- Simple Neural Network. "
   ]
  },
  {
   "cell_type": "code",
   "execution_count": 1,
   "metadata": {},
   "outputs": [
    {
     "name": "stderr",
     "output_type": "stream",
     "text": [
      "Using TensorFlow backend.\n",
      "/anaconda3/lib/python3.6/site-packages/tensorflow/python/framework/dtypes.py:519: FutureWarning: Passing (type, 1) or '1type' as a synonym of type is deprecated; in a future version of numpy, it will be understood as (type, (1,)) / '(1,)type'.\n",
      "  _np_qint8 = np.dtype([(\"qint8\", np.int8, 1)])\n",
      "/anaconda3/lib/python3.6/site-packages/tensorflow/python/framework/dtypes.py:520: FutureWarning: Passing (type, 1) or '1type' as a synonym of type is deprecated; in a future version of numpy, it will be understood as (type, (1,)) / '(1,)type'.\n",
      "  _np_quint8 = np.dtype([(\"quint8\", np.uint8, 1)])\n",
      "/anaconda3/lib/python3.6/site-packages/tensorflow/python/framework/dtypes.py:521: FutureWarning: Passing (type, 1) or '1type' as a synonym of type is deprecated; in a future version of numpy, it will be understood as (type, (1,)) / '(1,)type'.\n",
      "  _np_qint16 = np.dtype([(\"qint16\", np.int16, 1)])\n",
      "/anaconda3/lib/python3.6/site-packages/tensorflow/python/framework/dtypes.py:522: FutureWarning: Passing (type, 1) or '1type' as a synonym of type is deprecated; in a future version of numpy, it will be understood as (type, (1,)) / '(1,)type'.\n",
      "  _np_quint16 = np.dtype([(\"quint16\", np.uint16, 1)])\n",
      "/anaconda3/lib/python3.6/site-packages/tensorflow/python/framework/dtypes.py:523: FutureWarning: Passing (type, 1) or '1type' as a synonym of type is deprecated; in a future version of numpy, it will be understood as (type, (1,)) / '(1,)type'.\n",
      "  _np_qint32 = np.dtype([(\"qint32\", np.int32, 1)])\n",
      "/anaconda3/lib/python3.6/site-packages/tensorflow/python/framework/dtypes.py:528: FutureWarning: Passing (type, 1) or '1type' as a synonym of type is deprecated; in a future version of numpy, it will be understood as (type, (1,)) / '(1,)type'.\n",
      "  np_resource = np.dtype([(\"resource\", np.ubyte, 1)])\n"
     ]
    }
   ],
   "source": [
    "from __future__ import absolute_import, division, print_function, unicode_literals\n",
    "\n",
    "import keras\n",
    "import tensorflow as tf\n",
    "import h5py\n",
    "\n",
    "from keras.utils import to_categorical\n",
    "from keras.datasets import cifar10\n",
    "import matplotlib.pyplot as plt\n",
    "from sklearn.model_selection import KFold\n",
    "\n",
    "#Load original cifar10 dataset\n",
    "(train_images, train_labels), (test_images, test_labels) = cifar10.load_data()"
   ]
  },
  {
   "cell_type": "markdown",
   "metadata": {},
   "source": [
    "Shuffling the data"
   ]
  },
  {
   "cell_type": "code",
   "execution_count": 14,
   "metadata": {},
   "outputs": [],
   "source": [
    "from sklearn.utils import shuffle\n",
    "\n",
    "train_images_s, train_labels_s = shuffle(train_images,train_labels)\n",
    "\n",
    "xval_samples = 5000\n",
    "train_images_xval = train_images_s[:xval_samples]\n",
    "train_labels_xval = train_labels_s[:xval_samples]"
   ]
  },
  {
   "cell_type": "markdown",
   "metadata": {},
   "source": [
    "# LINEAR KERNEL SVM"
   ]
  },
  {
   "cell_type": "code",
   "execution_count": 5,
   "metadata": {},
   "outputs": [],
   "source": [
    "from AR_functions import linear_svm"
   ]
  },
  {
   "cell_type": "code",
   "execution_count": null,
   "metadata": {},
   "outputs": [],
   "source": [
    "train_images_xval_svm = train_images_xval.reshape(train_images_xval.shape[0], 32*32*3)\n",
    "nsplits=5\n",
    "kf = KFold(n_splits=nsplits, shuffle=True)\n",
    "\n",
    "c_values = [0.0001, 0.001, 0.1, 1.0, 10]\n",
    "\n",
    "acc_train_lin = []\n",
    "acc_test_lin = []\n",
    "\n",
    "for c in c_values:\n",
    "    acc_train = 0\n",
    "    acc_test  = 0\n",
    "    for train, test in kf.split(train_images_xval_svm):\n",
    "        \n",
    "        x_train, y_train = train_images_xval_svm[train], train_labels_xval[train]\n",
    "        \n",
    "        x_test, y_test = train_images_xval_svm[test], train_labels_xval[test]\n",
    "        \n",
    "        train_scores, test_scores = linear_svm(c, x_train, y_train.ravel(), x_test, y_test.ravel())\n",
    "\n",
    "        acc_train = acc_train + train_scores\n",
    "        acc_test = acc_test + test_scores\n",
    "        \n",
    "\n",
    "    acc_train = acc_train/nsplits\n",
    "    acc_test = acc_test/nsplits\n",
    "\n",
    "\n",
    "    acc_train_lin.append(acc_train)\n",
    "    acc_test_lin.append(acc_test)\n",
    "    print(acc_test_lin)\n",
    "    \n",
    "        \n",
    "plt.figure()\n",
    "plt.plot(c_values, acc_train_lin)\n",
    "plt.plot(c_values,acc_test_lin)\n",
    "plt.xscale(\"log\")\n",
    "plt.show()   "
   ]
  },
  {
   "cell_type": "code",
   "execution_count": null,
   "metadata": {},
   "outputs": [],
   "source": []
  },
  {
   "cell_type": "code",
   "execution_count": null,
   "metadata": {},
   "outputs": [],
   "source": []
  }
 ],
 "metadata": {
  "kernelspec": {
   "display_name": "Python 3",
   "language": "python",
   "name": "python3"
  },
  "language_info": {
   "codemirror_mode": {
    "name": "ipython",
    "version": 3
   },
   "file_extension": ".py",
   "mimetype": "text/x-python",
   "name": "python",
   "nbconvert_exporter": "python",
   "pygments_lexer": "ipython3",
   "version": "3.6.9"
  }
 },
 "nbformat": 4,
 "nbformat_minor": 2
}
