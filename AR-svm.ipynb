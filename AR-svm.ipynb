{
 "cells": [
  {
   "cell_type": "markdown",
   "metadata": {},
   "source": [
    "todo:\n",
    "\n",
    "- shuffle the data\n",
    "- rerun the notebook on the entire dataset\n"
   ]
  },
  {
   "cell_type": "code",
   "execution_count": 1,
   "metadata": {
    "scrolled": true
   },
   "outputs": [
    {
     "name": "stderr",
     "output_type": "stream",
     "text": [
      "/home/alex/.virtualenvs/python3_ml/lib/python3.6/site-packages/tensorflow/python/framework/dtypes.py:516: FutureWarning: Passing (type, 1) or '1type' as a synonym of type is deprecated; in a future version of numpy, it will be understood as (type, (1,)) / '(1,)type'.\n",
      "  _np_qint8 = np.dtype([(\"qint8\", np.int8, 1)])\n",
      "/home/alex/.virtualenvs/python3_ml/lib/python3.6/site-packages/tensorflow/python/framework/dtypes.py:517: FutureWarning: Passing (type, 1) or '1type' as a synonym of type is deprecated; in a future version of numpy, it will be understood as (type, (1,)) / '(1,)type'.\n",
      "  _np_quint8 = np.dtype([(\"quint8\", np.uint8, 1)])\n",
      "/home/alex/.virtualenvs/python3_ml/lib/python3.6/site-packages/tensorflow/python/framework/dtypes.py:518: FutureWarning: Passing (type, 1) or '1type' as a synonym of type is deprecated; in a future version of numpy, it will be understood as (type, (1,)) / '(1,)type'.\n",
      "  _np_qint16 = np.dtype([(\"qint16\", np.int16, 1)])\n",
      "/home/alex/.virtualenvs/python3_ml/lib/python3.6/site-packages/tensorflow/python/framework/dtypes.py:519: FutureWarning: Passing (type, 1) or '1type' as a synonym of type is deprecated; in a future version of numpy, it will be understood as (type, (1,)) / '(1,)type'.\n",
      "  _np_quint16 = np.dtype([(\"quint16\", np.uint16, 1)])\n",
      "/home/alex/.virtualenvs/python3_ml/lib/python3.6/site-packages/tensorflow/python/framework/dtypes.py:520: FutureWarning: Passing (type, 1) or '1type' as a synonym of type is deprecated; in a future version of numpy, it will be understood as (type, (1,)) / '(1,)type'.\n",
      "  _np_qint32 = np.dtype([(\"qint32\", np.int32, 1)])\n",
      "/home/alex/.virtualenvs/python3_ml/lib/python3.6/site-packages/tensorflow/python/framework/dtypes.py:525: FutureWarning: Passing (type, 1) or '1type' as a synonym of type is deprecated; in a future version of numpy, it will be understood as (type, (1,)) / '(1,)type'.\n",
      "  np_resource = np.dtype([(\"resource\", np.ubyte, 1)])\n"
     ]
    },
    {
     "name": "stdout",
     "output_type": "stream",
     "text": [
      "Num GPUs Available:  1\n",
      "WARNING:tensorflow:From /home/alex/Desktop/CS273_project/AR_functions.py:19: The name tf.set_random_seed is deprecated. Please use tf.compat.v1.set_random_seed instead.\n",
      "\n"
     ]
    },
    {
     "name": "stderr",
     "output_type": "stream",
     "text": [
      "/home/alex/.virtualenvs/python3_ml/lib/python3.6/site-packages/tensorboard/compat/tensorflow_stub/dtypes.py:541: FutureWarning: Passing (type, 1) or '1type' as a synonym of type is deprecated; in a future version of numpy, it will be understood as (type, (1,)) / '(1,)type'.\n",
      "  _np_qint8 = np.dtype([(\"qint8\", np.int8, 1)])\n",
      "/home/alex/.virtualenvs/python3_ml/lib/python3.6/site-packages/tensorboard/compat/tensorflow_stub/dtypes.py:542: FutureWarning: Passing (type, 1) or '1type' as a synonym of type is deprecated; in a future version of numpy, it will be understood as (type, (1,)) / '(1,)type'.\n",
      "  _np_quint8 = np.dtype([(\"quint8\", np.uint8, 1)])\n",
      "/home/alex/.virtualenvs/python3_ml/lib/python3.6/site-packages/tensorboard/compat/tensorflow_stub/dtypes.py:543: FutureWarning: Passing (type, 1) or '1type' as a synonym of type is deprecated; in a future version of numpy, it will be understood as (type, (1,)) / '(1,)type'.\n",
      "  _np_qint16 = np.dtype([(\"qint16\", np.int16, 1)])\n",
      "/home/alex/.virtualenvs/python3_ml/lib/python3.6/site-packages/tensorboard/compat/tensorflow_stub/dtypes.py:544: FutureWarning: Passing (type, 1) or '1type' as a synonym of type is deprecated; in a future version of numpy, it will be understood as (type, (1,)) / '(1,)type'.\n",
      "  _np_quint16 = np.dtype([(\"quint16\", np.uint16, 1)])\n",
      "/home/alex/.virtualenvs/python3_ml/lib/python3.6/site-packages/tensorboard/compat/tensorflow_stub/dtypes.py:545: FutureWarning: Passing (type, 1) or '1type' as a synonym of type is deprecated; in a future version of numpy, it will be understood as (type, (1,)) / '(1,)type'.\n",
      "  _np_qint32 = np.dtype([(\"qint32\", np.int32, 1)])\n",
      "/home/alex/.virtualenvs/python3_ml/lib/python3.6/site-packages/tensorboard/compat/tensorflow_stub/dtypes.py:550: FutureWarning: Passing (type, 1) or '1type' as a synonym of type is deprecated; in a future version of numpy, it will be understood as (type, (1,)) / '(1,)type'.\n",
      "  np_resource = np.dtype([(\"resource\", np.ubyte, 1)])\n"
     ]
    }
   ],
   "source": [
    "from AR_functions import *\n",
    "\n",
    "from sklearn.decomposition import PCA"
   ]
  },
  {
   "cell_type": "code",
   "execution_count": 2,
   "metadata": {},
   "outputs": [],
   "source": [
    "# set random seeds\n",
    "tensorflow.set_random_seed(123)\n",
    "np.random.seed(123)"
   ]
  },
  {
   "cell_type": "code",
   "execution_count": 3,
   "metadata": {},
   "outputs": [],
   "source": [
    "# load the (flattened) dataset \n",
    "def load_dataset():\n",
    "    num_classes=10\n",
    "\n",
    "    # training set\n",
    "    cifar10_dir = \"./cifar-10-batches-py/\"\n",
    "    x_train = np.zeros((5, 10000, 32*32*3))\n",
    "    y_train = np.zeros((5, 10000))\n",
    "    for i in range(1, 6):\n",
    "        batch_file = cifar10_dir+\"data_batch_\"+str(i)\n",
    "        with open(batch_file, 'rb') as fo:\n",
    "            batch = pickle.load(fo, encoding='bytes')\n",
    "        x, y = batch[b'data'], batch[b'labels']\n",
    "        x_train[i-1] = x\n",
    "        y_train[i-1] = y\n",
    "    x_train = np.vstack((x_train))\n",
    "    y_train = np.hstack((y_train))\n",
    "\n",
    "    # testing set\n",
    "    test_file = \"./cifar-10-batches-py/test_batch\"\n",
    "    x_test = np.zeros((10000, 32*32*3))\n",
    "    y_test = np.zeros((10000))\n",
    "    with open(test_file, 'rb') as fo:\n",
    "        batch = pickle.load(fo, encoding='bytes')\n",
    "    x, y = batch[b'data'], batch[b'labels']\n",
    "    x_test = x\n",
    "    y_test = y\n",
    "\n",
    "    return (x_train, y_train), (x_test, y_test)\n",
    "\n",
    "(x_train, y_train), (x_test, y_test) = load_dataset()"
   ]
  },
  {
   "cell_type": "code",
   "execution_count": 4,
   "metadata": {},
   "outputs": [],
   "source": [
    "# normalize images \n",
    "x_train = x_train / 225\n",
    "x_test = x_test / 225"
   ]
  },
  {
   "cell_type": "code",
   "execution_count": 5,
   "metadata": {},
   "outputs": [],
   "source": [
    "# for now (testing the code) use only 2,000 sample images\n",
    "x_train = x_train[:4000]\n",
    "y_train = y_train[:4000]\n",
    "\n",
    "x_test = x_test[:4000]\n",
    "y_test = y_test[:4000]"
   ]
  },
  {
   "cell_type": "code",
   "execution_count": 6,
   "metadata": {},
   "outputs": [
    {
     "data": {
      "image/png": "[encoded data removed]",
      "text/plain": [
       "<Figure size 432x288 with 1 Axes>"
      ]
     },
     "metadata": {
      "needs_background": "light"
     },
     "output_type": "display_data"
    }
   ],
   "source": [
    "# PCA - first, choose the number of eigenvectors \n",
    "pca = PCA().fit(x_train)\n",
    "plt.figure()\n",
    "plt.plot(np.cumsum(pca.explained_variance_ratio_))\n",
    "plt.xlabel('no. of components')\n",
    "plt.ylabel('% variance')\n",
    "plt.show()"
   ]
  },
  {
   "cell_type": "code",
   "execution_count": 7,
   "metadata": {},
   "outputs": [
    {
     "name": "stdout",
     "output_type": "stream",
     "text": [
      "K = 31\n"
     ]
    }
   ],
   "source": [
    "# keep 80% of the variance?\n",
    "k = 0 \n",
    "var_cumsum = np.cumsum(pca.explained_variance_ratio_)\n",
    "\n",
    "for cumsum in var_cumsum:\n",
    "    if cumsum < 0.80:\n",
    "        k+=1\n",
    "    else:\n",
    "        break\n",
    "        \n",
    "print(\"K = {}\".format(k))"
   ]
  },
  {
   "cell_type": "code",
   "execution_count": 8,
   "metadata": {},
   "outputs": [],
   "source": [
    "pca_80 = PCA(n_components=k)\n",
    "x_train_pca = pca_80.fit_transform(x_train)\n",
    "x_test_pca = pca_80.fit_transform(x_test)"
   ]
  },
  {
   "cell_type": "markdown",
   "metadata": {},
   "source": [
    "now that the data is transformed, use SVM"
   ]
  },
  {
   "cell_type": "code",
   "execution_count": 9,
   "metadata": {},
   "outputs": [],
   "source": [
    "from sklearn import svm\n",
    "from sklearn.metrics import roc_curve, auc\n",
    "from tensorflow.keras.utils import to_categorical"
   ]
  },
  {
   "cell_type": "code",
   "execution_count": 10,
   "metadata": {},
   "outputs": [],
   "source": [
    "def linear_svm(c, x_train, y_train, x_test, y_test):\n",
    "    clf = svm.SVC(probability=False, kernel='linear', C=c)\n",
    "    clf.fit(x_train, y_train)\n",
    "    \n",
    "    print(\"C : {}\".format(c))\n",
    "    # accuracy on training set\n",
    "    pred_train = clf.predict(x_train)\n",
    "    train_score = clf.score(x_train, y_train)\n",
    "    acc_train_lin.append(train_score)\n",
    "    print('train score : {}'.format(train_score))\n",
    "    \n",
    "    # accuracy on testing set \n",
    "    pred_test = clf.predict(x_test)\n",
    "    test_score = clf.score(x_test, y_test)\n",
    "    acc_test_lin.append(test_score)\n",
    "    print('test score : {}'.format(test_score))\n",
    "    print(' ')\n",
    "    \n",
    "    #y_true = to_categorical(y_test, num_classes=10)\n",
    "    #y_hat  = to_categorical(pred_test, num_classes=10)\n",
    "    \n",
    "    #for i in range(10):\n",
    "    #    plt.subplot(2, 5, i+1)        \n",
    "    #    fpr_test, tpr_test, _ = roc_curve(y_true[:, i], y_hat[:, i])\n",
    "    #    plt.plot(fpr_test, tpr_test)\n",
    "    #plt.show()"
   ]
  },
  {
   "cell_type": "code",
   "execution_count": 11,
   "metadata": {},
   "outputs": [
    {
     "name": "stdout",
     "output_type": "stream",
     "text": [
      "C : 0.0001\n",
      "train score : 0.2845\n",
      "test score : 0.1165\n",
      " \n",
      "C : 0.001\n",
      "train score : 0.3825\n",
      "test score : 0.11475\n",
      " \n",
      "C : 0.1\n",
      "train score : 0.40875\n",
      "test score : 0.106\n",
      " \n",
      "C : 1.0\n",
      "train score : 0.4125\n",
      "test score : 0.10425\n",
      " \n",
      "C : 10\n",
      "train score : 0.41375\n",
      "test score : 0.1055\n",
      " \n"
     ]
    }
   ],
   "source": [
    "c_values = [0.0001, 0.001, 0.1, 1.0, 10]\n",
    "\n",
    "acc_train_lin = []\n",
    "acc_test_lin = []\n",
    "\n",
    "for c in c_values:\n",
    "    linear_svm(c, x_train_pca, y_train, x_test_pca, y_test)"
   ]
  },
  {
   "cell_type": "code",
   "execution_count": 12,
   "metadata": {},
   "outputs": [
    {
     "data": {
      "image/png": "[encoded data removed]",
      "text/plain": [
       "<Figure size 432x288 with 1 Axes>"
      ]
     },
     "metadata": {
      "needs_background": "light"
     },
     "output_type": "display_data"
    }
   ],
   "source": [
    "plt.plot(c_values, acc_train_lin, color='b', label='train')\n",
    "plt.plot(c_values, acc_test_lin, color='g', label='test')\n",
    "plt.xlabel('C')\n",
    "plt.ylabel('acc')\n",
    "plt.legend()\n",
    "plt.show()"
   ]
  },
  {
   "cell_type": "code",
   "execution_count": 13,
   "metadata": {},
   "outputs": [],
   "source": [
    "def polynomial_svm(c, x_train, y_train, x_test, y_test):\n",
    "    clf = svm.SVC(probability=False, kernel='poly', C=c)\n",
    "    clf.fit(x_train, y_train)\n",
    "    \n",
    "    print(\"C : {}\".format(c))\n",
    "    # accuracy on training set\n",
    "    pred_train = clf.predict(x_train)\n",
    "    train_score = clf.score(x_train, y_train)\n",
    "    acc_train_poly.append(train_score)\n",
    "    print('train score : {}'.format(train_score))\n",
    "    \n",
    "    # accuracy on testing set \n",
    "    pred_test = clf.predict(x_test)\n",
    "    test_score = clf.score(x_test, y_test)\n",
    "    acc_test_poly.append(test_score)\n",
    "    print('test score : {}'.format(test_score))\n",
    "    print(' ')"
   ]
  },
  {
   "cell_type": "code",
   "execution_count": 14,
   "metadata": {},
   "outputs": [
    {
     "name": "stderr",
     "output_type": "stream",
     "text": [
      "/home/alex/.virtualenvs/python3_ml/lib/python3.6/site-packages/sklearn/svm/base.py:193: FutureWarning: The default value of gamma will change from 'auto' to 'scale' in version 0.22 to account better for unscaled features. Set gamma explicitly to 'auto' or 'scale' to avoid this warning.\n",
      "  \"avoid this warning.\", FutureWarning)\n"
     ]
    },
    {
     "name": "stdout",
     "output_type": "stream",
     "text": [
      "C : 0.001\n",
      "train score : 0.39575\n",
      "test score : 0.125\n",
      " \n"
     ]
    },
    {
     "name": "stderr",
     "output_type": "stream",
     "text": [
      "/home/alex/.virtualenvs/python3_ml/lib/python3.6/site-packages/sklearn/svm/base.py:193: FutureWarning: The default value of gamma will change from 'auto' to 'scale' in version 0.22 to account better for unscaled features. Set gamma explicitly to 'auto' or 'scale' to avoid this warning.\n",
      "  \"avoid this warning.\", FutureWarning)\n"
     ]
    },
    {
     "name": "stdout",
     "output_type": "stream",
     "text": [
      "C : 0.01\n",
      "train score : 0.7065\n",
      "test score : 0.1335\n",
      " \n"
     ]
    },
    {
     "name": "stderr",
     "output_type": "stream",
     "text": [
      "/home/alex/.virtualenvs/python3_ml/lib/python3.6/site-packages/sklearn/svm/base.py:193: FutureWarning: The default value of gamma will change from 'auto' to 'scale' in version 0.22 to account better for unscaled features. Set gamma explicitly to 'auto' or 'scale' to avoid this warning.\n",
      "  \"avoid this warning.\", FutureWarning)\n"
     ]
    },
    {
     "name": "stdout",
     "output_type": "stream",
     "text": [
      "C : 0.1\n",
      "train score : 0.929\n",
      "test score : 0.12175\n",
      " \n"
     ]
    },
    {
     "name": "stderr",
     "output_type": "stream",
     "text": [
      "/home/alex/.virtualenvs/python3_ml/lib/python3.6/site-packages/sklearn/svm/base.py:193: FutureWarning: The default value of gamma will change from 'auto' to 'scale' in version 0.22 to account better for unscaled features. Set gamma explicitly to 'auto' or 'scale' to avoid this warning.\n",
      "  \"avoid this warning.\", FutureWarning)\n"
     ]
    },
    {
     "name": "stdout",
     "output_type": "stream",
     "text": [
      "C : 1.0\n",
      "train score : 0.996\n",
      "test score : 0.1265\n",
      " \n"
     ]
    },
    {
     "name": "stderr",
     "output_type": "stream",
     "text": [
      "/home/alex/.virtualenvs/python3_ml/lib/python3.6/site-packages/sklearn/svm/base.py:193: FutureWarning: The default value of gamma will change from 'auto' to 'scale' in version 0.22 to account better for unscaled features. Set gamma explicitly to 'auto' or 'scale' to avoid this warning.\n",
      "  \"avoid this warning.\", FutureWarning)\n"
     ]
    },
    {
     "name": "stdout",
     "output_type": "stream",
     "text": [
      "C : 10.0\n",
      "train score : 1.0\n",
      "test score : 0.122\n",
      " \n"
     ]
    }
   ],
   "source": [
    "c_values = [0.001, 0.01, 0.1, 1.0, 10.0]\n",
    "\n",
    "acc_train_poly = []\n",
    "acc_test_poly  = []\n",
    "\n",
    "for c in c_values:\n",
    "    polynomial_svm(c, x_train_pca, y_train, x_test_pca, y_test)"
   ]
  },
  {
   "cell_type": "code",
   "execution_count": 15,
   "metadata": {},
   "outputs": [
    {
     "data": {
      "image/png": "[encoded data removed]",
      "text/plain": [
       "<Figure size 432x288 with 1 Axes>"
      ]
     },
     "metadata": {
      "needs_background": "light"
     },
     "output_type": "display_data"
    }
   ],
   "source": [
    "plt.plot(c_values, acc_train_poly, color='b', label='train')\n",
    "plt.plot(c_values, acc_test_poly, color='g', label='test')\n",
    "plt.xlabel('C')\n",
    "plt.ylabel('acc')\n",
    "plt.legend()\n",
    "plt.show()"
   ]
  },
  {
   "cell_type": "code",
   "execution_count": 16,
   "metadata": {},
   "outputs": [
    {
     "data": {
      "image/png": "[encoded data removed]",
      "text/plain": [
       "<Figure size 432x288 with 1 Axes>"
      ]
     },
     "metadata": {
      "needs_background": "light"
     },
     "output_type": "display_data"
    }
   ],
   "source": [
    "# compare test errors \n",
    "plt.plot(c_values, acc_test_lin, color='r', label='linear')\n",
    "plt.plot(c_values, acc_test_poly, color='purple', label='poly')\n",
    "plt.xlabel('C')\n",
    "plt.ylabel('acc')\n",
    "plt.legend()\n",
    "plt.show()"
   ]
  },
  {
   "cell_type": "code",
   "execution_count": 17,
   "metadata": {
    "scrolled": true
   },
   "outputs": [],
   "source": [
    "# the one that did best was polynomial with c=0.01\n",
    "# this is only temporal. expected to change after training on all the data and with a \n",
    "# larger k. the value of C will probably be less then\n",
    "\n",
    "# train on all the data\n",
    "(x_train, y_train), (x_test, y_test) = load_dataset()\n",
    "x_train = x_train / 225\n",
    "x_test = x_test / 225\n",
    "pca_90 = PCA(n_components=k)\n",
    "x_train_pca = pca_90.fit_transform(x_train)\n",
    "x_test_pca = pca_90.fit_transform(x_test)"
   ]
  },
  {
   "cell_type": "code",
   "execution_count": 18,
   "metadata": {},
   "outputs": [
    {
     "name": "stdout",
     "output_type": "stream",
     "text": [
      "test accuracy :  0.2127\n"
     ]
    }
   ],
   "source": [
    "svc = svm.SVC(probability=False, kernel='linear', C=0.01)\n",
    "svc.fit(x_train_pca, y_train)\n",
    "pred_test = svc.predict(x_test_pca)\n",
    "acc_test = np.mean(pred_test == y_test)\n",
    "print('test accuracy : ', acc_test)"
   ]
  },
  {
   "cell_type": "code",
   "execution_count": 19,
   "metadata": {},
   "outputs": [],
   "source": [
    "from sklearn.metrics import roc_curve, roc_auc_score, auc"
   ]
  },
  {
   "cell_type": "code",
   "execution_count": 30,
   "metadata": {},
   "outputs": [
    {
     "data": {
      "image/png": "[encoded data removed]",
      "text/plain": [
       "<Figure size 864x576 with 10 Axes>"
      ]
     },
     "metadata": {
      "needs_background": "light"
     },
     "output_type": "display_data"
    }
   ],
   "source": [
    "# ROC curve and auc\n",
    "y_true = to_categorical(y_test, num_classes=10)\n",
    "y_hat  = to_categorical(pred_test, num_classes=10)\n",
    "\n",
    "plt.figure(figsize=(12, 8))\n",
    "for i in range(10):\n",
    "    plt.subplot(2, 5, i+1)        \n",
    "    fpr_test, tpr_test, _ = roc_curve(y_true[:, i], y_hat[:, i])\n",
    "    auc = roc_auc_score(y_true[:, i], y_hat[:, i])\n",
    "    plt.title('auc {0:f}'.format(auc))\n",
    "    plt.plot(fpr_test, tpr_test)\n",
    "plt.show()"
   ]
  }
 ],
 "metadata": {
  "kernelspec": {
   "display_name": "Python 3",
   "language": "python",
   "name": "python3"
  },
  "language_info": {
   "codemirror_mode": {
    "name": "ipython",
    "version": 3
   },
   "file_extension": ".py",
   "mimetype": "text/x-python",
   "name": "python",
   "nbconvert_exporter": "python",
   "pygments_lexer": "ipython3",
   "version": "3.6.9"
  }
 },
 "nbformat": 4,
 "nbformat_minor": 2
}
