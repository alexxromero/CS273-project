{
 "cells": [
  {
   "cell_type": "code",
   "execution_count": 3,
   "metadata": {},
   "outputs": [],
   "source": [
    "import pickle\n",
    "import matplotlib.pyplot as plt\n",
    "import numpy as np\n",
    "import cv2\n",
    "\n",
    "def openAllBatches():\n",
    "    final_file = {}\n",
    "    for i in range(1,6):\n",
    "        with open(\"data/data_batch_\" + str(i), 'rb') as file:\n",
    "            final_file.update(pickle.load(file, encoding='bytes'))\n",
    "    final_file = {key.decode('utf-8'): value for (key, value) in final_file.items()}\n",
    "    final_file['filenames'] = [v.decode('utf-8') for v in final_file['filenames']]\n",
    "    return final_file\n",
    "\n",
    "test_set = openAllBatches()"
   ]
  },
  {
   "cell_type": "code",
   "execution_count": 4,
   "metadata": {},
   "outputs": [
    {
     "data": {
      "image/png": "[encoded data removed]",
      "text/plain": [
       "<Figure size 72x72 with 1 Axes>"
      ]
     },
     "metadata": {},
     "output_type": "display_data"
    }
   ],
   "source": [
    "def viewImage(data, i):\n",
    "    image = np.rot90(data['data'][i].reshape((32,32,3), order='F'),3)\n",
    "    plt.figure(figsize=(1,1))\n",
    "    plt.imshow(image)\n",
    "    plt.xticks([])\n",
    "    plt.yticks([]) \n",
    "    \n",
    "def viewImages(data, i):\n",
    "    print(\"NOT IMPLEMENTED\")\n",
    "    \n",
    "viewImage(test_set, 2986)"
   ]
  },
  {
   "cell_type": "code",
   "execution_count": 15,
   "metadata": {},
   "outputs": [
    {
     "data": {
      "text/plain": [
       "10000"
      ]
     },
     "execution_count": 15,
     "metadata": {},
     "output_type": "execute_result"
    }
   ],
   "source": [
    "len(test_set['data'])"
   ]
  }
 ],
 "metadata": {
  "kernelspec": {
   "display_name": "Python 3",
   "language": "python",
   "name": "python3"
  },
  "language_info": {
   "codemirror_mode": {
    "name": "ipython",
    "version": 3
   },
   "file_extension": ".py",
   "mimetype": "text/x-python",
   "name": "python",
   "nbconvert_exporter": "python",
   "pygments_lexer": "ipython3",
   "version": "3.6.5"
  }
 },
 "nbformat": 4,
 "nbformat_minor": 2
}
