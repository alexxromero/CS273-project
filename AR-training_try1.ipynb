{
 "cells": [
  {
   "cell_type": "markdown",
   "metadata": {},
   "source": [
    "# CNN \n",
    "\n",
    "based on Aaron's. added dropout and data augmentation. also saved a fraction of the data for validaiton, to be used for model selection & tracking undertraining/overtraining."
   ]
  },
  {
   "cell_type": "code",
   "execution_count": 1,
   "metadata": {},
   "outputs": [],
   "source": [
    "from __future__ import absolute_import, division, print_function, unicode_literals\n",
    "\n",
    "import numpy as np\n",
    "import matplotlib.pyplot as plt\n",
    "import matplotlib.image as mpimg\n",
    "import pickle\n",
    "%matplotlib inline"
   ]
  },
  {
   "cell_type": "code",
   "execution_count": 2,
   "metadata": {},
   "outputs": [
    {
     "name": "stderr",
     "output_type": "stream",
     "text": [
      "/home/alex/.virtualenvs/python3_ml/lib/python3.6/site-packages/tensorflow/python/framework/dtypes.py:516: FutureWarning: Passing (type, 1) or '1type' as a synonym of type is deprecated; in a future version of numpy, it will be understood as (type, (1,)) / '(1,)type'.\n",
      "  _np_qint8 = np.dtype([(\"qint8\", np.int8, 1)])\n",
      "/home/alex/.virtualenvs/python3_ml/lib/python3.6/site-packages/tensorflow/python/framework/dtypes.py:517: FutureWarning: Passing (type, 1) or '1type' as a synonym of type is deprecated; in a future version of numpy, it will be understood as (type, (1,)) / '(1,)type'.\n",
      "  _np_quint8 = np.dtype([(\"quint8\", np.uint8, 1)])\n",
      "/home/alex/.virtualenvs/python3_ml/lib/python3.6/site-packages/tensorflow/python/framework/dtypes.py:518: FutureWarning: Passing (type, 1) or '1type' as a synonym of type is deprecated; in a future version of numpy, it will be understood as (type, (1,)) / '(1,)type'.\n",
      "  _np_qint16 = np.dtype([(\"qint16\", np.int16, 1)])\n",
      "/home/alex/.virtualenvs/python3_ml/lib/python3.6/site-packages/tensorflow/python/framework/dtypes.py:519: FutureWarning: Passing (type, 1) or '1type' as a synonym of type is deprecated; in a future version of numpy, it will be understood as (type, (1,)) / '(1,)type'.\n",
      "  _np_quint16 = np.dtype([(\"quint16\", np.uint16, 1)])\n",
      "/home/alex/.virtualenvs/python3_ml/lib/python3.6/site-packages/tensorflow/python/framework/dtypes.py:520: FutureWarning: Passing (type, 1) or '1type' as a synonym of type is deprecated; in a future version of numpy, it will be understood as (type, (1,)) / '(1,)type'.\n",
      "  _np_qint32 = np.dtype([(\"qint32\", np.int32, 1)])\n",
      "/home/alex/.virtualenvs/python3_ml/lib/python3.6/site-packages/tensorflow/python/framework/dtypes.py:525: FutureWarning: Passing (type, 1) or '1type' as a synonym of type is deprecated; in a future version of numpy, it will be understood as (type, (1,)) / '(1,)type'.\n",
      "  np_resource = np.dtype([(\"resource\", np.ubyte, 1)])\n"
     ]
    },
    {
     "name": "stdout",
     "output_type": "stream",
     "text": [
      "Num GPUs Available:  1\n"
     ]
    },
    {
     "name": "stderr",
     "output_type": "stream",
     "text": [
      "/home/alex/.virtualenvs/python3_ml/lib/python3.6/site-packages/tensorboard/compat/tensorflow_stub/dtypes.py:541: FutureWarning: Passing (type, 1) or '1type' as a synonym of type is deprecated; in a future version of numpy, it will be understood as (type, (1,)) / '(1,)type'.\n",
      "  _np_qint8 = np.dtype([(\"qint8\", np.int8, 1)])\n",
      "/home/alex/.virtualenvs/python3_ml/lib/python3.6/site-packages/tensorboard/compat/tensorflow_stub/dtypes.py:542: FutureWarning: Passing (type, 1) or '1type' as a synonym of type is deprecated; in a future version of numpy, it will be understood as (type, (1,)) / '(1,)type'.\n",
      "  _np_quint8 = np.dtype([(\"quint8\", np.uint8, 1)])\n",
      "/home/alex/.virtualenvs/python3_ml/lib/python3.6/site-packages/tensorboard/compat/tensorflow_stub/dtypes.py:543: FutureWarning: Passing (type, 1) or '1type' as a synonym of type is deprecated; in a future version of numpy, it will be understood as (type, (1,)) / '(1,)type'.\n",
      "  _np_qint16 = np.dtype([(\"qint16\", np.int16, 1)])\n",
      "/home/alex/.virtualenvs/python3_ml/lib/python3.6/site-packages/tensorboard/compat/tensorflow_stub/dtypes.py:544: FutureWarning: Passing (type, 1) or '1type' as a synonym of type is deprecated; in a future version of numpy, it will be understood as (type, (1,)) / '(1,)type'.\n",
      "  _np_quint16 = np.dtype([(\"quint16\", np.uint16, 1)])\n",
      "/home/alex/.virtualenvs/python3_ml/lib/python3.6/site-packages/tensorboard/compat/tensorflow_stub/dtypes.py:545: FutureWarning: Passing (type, 1) or '1type' as a synonym of type is deprecated; in a future version of numpy, it will be understood as (type, (1,)) / '(1,)type'.\n",
      "  _np_qint32 = np.dtype([(\"qint32\", np.int32, 1)])\n",
      "/home/alex/.virtualenvs/python3_ml/lib/python3.6/site-packages/tensorboard/compat/tensorflow_stub/dtypes.py:550: FutureWarning: Passing (type, 1) or '1type' as a synonym of type is deprecated; in a future version of numpy, it will be understood as (type, (1,)) / '(1,)type'.\n",
      "  np_resource = np.dtype([(\"resource\", np.ubyte, 1)])\n"
     ]
    }
   ],
   "source": [
    "import tensorflow\n",
    "print(\"Num GPUs Available: \", len(tensorflow.config.experimental.list_physical_devices('GPU')))"
   ]
  },
  {
   "cell_type": "code",
   "execution_count": 3,
   "metadata": {},
   "outputs": [],
   "source": [
    "from sklearn.model_selection import train_test_split"
   ]
  },
  {
   "cell_type": "code",
   "execution_count": 4,
   "metadata": {},
   "outputs": [],
   "source": [
    "def train_batch(batch_no):\n",
    "    cifar10_dir = \"./cifar-10-batches-py/\"\n",
    "    batch_file = cifar10_dir+\"data_batch_\"+str(batch_no)\n",
    "    with open(batch_file, 'rb') as fo:\n",
    "        batch = pickle.load(fo, encoding='bytes')\n",
    "        \n",
    "    x, y = batch[b'data'], batch[b'labels']\n",
    "    x = x.reshape((np.shape(x)[0], 3, 32, 32)).transpose(0, 2, 3, 1).astype('float32')  # reshape the images\n",
    "    return x, y\n",
    "\n",
    "def test_batch():\n",
    "    batch_file = \"./cifar-10-batches-py/test_batch\"\n",
    "    with open(batch_file, 'rb') as fo:\n",
    "        batch = pickle.load(fo, encoding='bytes')\n",
    "        \n",
    "    x, y = batch[b'data'], batch[b'labels']\n",
    "    x = x.reshape((np.shape(x)[0], 3, 32, 32)).transpose(0, 2, 3, 1).astype('float32')  # reshape the images\n",
    "    return x, y\n",
    "\n",
    "\n",
    "x, y = [], []\n",
    "for i in range(1, 6):\n",
    "    x.append(train_batch(i)[0])\n",
    "    y.append(train_batch(i)[1])\n",
    "x, y = np.vstack((x)), np.hstack((y))\n",
    "\n",
    " \n",
    "x_test, y_test = test_batch()  # test set\n",
    "\n",
    "# split training/validation\n",
    "x_train, x_val, y_train, y_val = train_test_split(x, y, \n",
    "                                                  test_size=0.2,\n",
    "                                                  random_state=123,\n",
    "                                                  shuffle=True)"
   ]
  },
  {
   "cell_type": "markdown",
   "metadata": {},
   "source": [
    "preprocessing"
   ]
  },
  {
   "cell_type": "code",
   "execution_count": 5,
   "metadata": {},
   "outputs": [
    {
     "name": "stderr",
     "output_type": "stream",
     "text": [
      "Using TensorFlow backend.\n"
     ]
    }
   ],
   "source": [
    "from keras.utils import to_categorical"
   ]
  },
  {
   "cell_type": "code",
   "execution_count": 6,
   "metadata": {},
   "outputs": [],
   "source": [
    "# features \n",
    "norm = np.max(x_train)\n",
    "x_train = x_train/norm\n",
    "x_test = x_test/norm\n",
    "x_val = x_val/norm\n",
    "\n",
    "# classes\n",
    "num_classes=10\n",
    "y_train = to_categorical(y_train, num_classes)\n",
    "y_test = to_categorical(y_test, num_classes)\n",
    "y_val = to_categorical(y_val, num_classes)"
   ]
  },
  {
   "cell_type": "markdown",
   "metadata": {},
   "source": [
    "data augmentation"
   ]
  },
  {
   "cell_type": "code",
   "execution_count": 7,
   "metadata": {},
   "outputs": [],
   "source": [
    "from keras.preprocessing.image import ImageDataGenerator"
   ]
  },
  {
   "cell_type": "markdown",
   "metadata": {},
   "source": [
    "I used the ImageDataGenerator class from keras to transform the training images by generating new images with rotation, crops, zooms, flipeed, etc. "
   ]
  },
  {
   "cell_type": "code",
   "execution_count": 8,
   "metadata": {},
   "outputs": [],
   "source": [
    "datagen = ImageDataGenerator(rotation_range=90,\n",
    "                             width_shift_range=0.1, \n",
    "                             height_shift_range=0.1,\n",
    "                             horizontal_flip=True)\n",
    "datagen.fit(x_train)"
   ]
  },
  {
   "cell_type": "markdown",
   "metadata": {},
   "source": [
    "training the model"
   ]
  },
  {
   "cell_type": "code",
   "execution_count": 9,
   "metadata": {
    "scrolled": true
   },
   "outputs": [],
   "source": [
    "from keras.models import Sequential\n",
    "from keras.layers import Dense, Dropout, Activation, Flatten\n",
    "from keras.layers import Conv2D, MaxPooling2D, SpatialDropout2D"
   ]
  },
  {
   "cell_type": "code",
   "execution_count": 10,
   "metadata": {},
   "outputs": [],
   "source": [
    "batch_size = 128\n",
    "epochs = 30"
   ]
  },
  {
   "cell_type": "code",
   "execution_count": 12,
   "metadata": {},
   "outputs": [
    {
     "name": "stdout",
     "output_type": "stream",
     "text": [
      "WARNING:tensorflow:From /home/alex/.virtualenvs/python3_ml/lib/python3.6/site-packages/keras/backend/tensorflow_backend.py:66: The name tf.get_default_graph is deprecated. Please use tf.compat.v1.get_default_graph instead.\n",
      "\n",
      "WARNING:tensorflow:From /home/alex/.virtualenvs/python3_ml/lib/python3.6/site-packages/keras/backend/tensorflow_backend.py:541: The name tf.placeholder is deprecated. Please use tf.compat.v1.placeholder instead.\n",
      "\n",
      "WARNING:tensorflow:From /home/alex/.virtualenvs/python3_ml/lib/python3.6/site-packages/keras/backend/tensorflow_backend.py:4432: The name tf.random_uniform is deprecated. Please use tf.random.uniform instead.\n",
      "\n",
      "WARNING:tensorflow:From /home/alex/.virtualenvs/python3_ml/lib/python3.6/site-packages/keras/backend/tensorflow_backend.py:4267: The name tf.nn.max_pool is deprecated. Please use tf.nn.max_pool2d instead.\n",
      "\n",
      "WARNING:tensorflow:From /home/alex/.virtualenvs/python3_ml/lib/python3.6/site-packages/keras/backend/tensorflow_backend.py:148: The name tf.placeholder_with_default is deprecated. Please use tf.compat.v1.placeholder_with_default instead.\n",
      "\n",
      "WARNING:tensorflow:From /home/alex/.virtualenvs/python3_ml/lib/python3.6/site-packages/keras/backend/tensorflow_backend.py:3733: calling dropout (from tensorflow.python.ops.nn_ops) with keep_prob is deprecated and will be removed in a future version.\n",
      "Instructions for updating:\n",
      "Please use `rate` instead of `keep_prob`. Rate should be set to `rate = 1 - keep_prob`.\n"
     ]
    }
   ],
   "source": [
    "model = Sequential()\n",
    "model.add(Conv2D(128, (3, 3), padding='same', activation='relu',\n",
    "                 input_shape=x_train.shape[1:]))\n",
    "model.add(Conv2D(128, (3, 3), activation='relu'))\n",
    "model.add(MaxPooling2D(pool_size=(2, 2)))\n",
    "model.add(Dropout(0.25))\n",
    "\n",
    "model.add(Conv2D(64, (3, 3), padding='same', activation='relu'))\n",
    "model.add(Conv2D(64, (3, 3), activation='relu'))\n",
    "model.add(MaxPooling2D(pool_size=(2, 2)))\n",
    "model.add(Dropout(0.25))\n",
    "\n",
    "model.add(Flatten())\n",
    "model.add(Dense(512))\n",
    "model.add(Activation('relu'))\n",
    "model.add(Dropout(0.5))\n",
    "model.add(Dense(num_classes))\n",
    "model.add(Activation('softmax'))"
   ]
  },
  {
   "cell_type": "code",
   "execution_count": 13,
   "metadata": {},
   "outputs": [
    {
     "name": "stdout",
     "output_type": "stream",
     "text": [
      "Model: \"sequential_1\"\n",
      "_________________________________________________________________\n",
      "Layer (type)                 Output Shape              Param #   \n",
      "=================================================================\n",
      "conv2d_1 (Conv2D)            (None, 32, 32, 128)       3584      \n",
      "_________________________________________________________________\n",
      "conv2d_2 (Conv2D)            (None, 30, 30, 128)       147584    \n",
      "_________________________________________________________________\n",
      "max_pooling2d_1 (MaxPooling2 (None, 15, 15, 128)       0         \n",
      "_________________________________________________________________\n",
      "dropout_1 (Dropout)          (None, 15, 15, 128)       0         \n",
      "_________________________________________________________________\n",
      "conv2d_3 (Conv2D)            (None, 15, 15, 64)        73792     \n",
      "_________________________________________________________________\n",
      "conv2d_4 (Conv2D)            (None, 13, 13, 64)        36928     \n",
      "_________________________________________________________________\n",
      "max_pooling2d_2 (MaxPooling2 (None, 6, 6, 64)          0         \n",
      "_________________________________________________________________\n",
      "dropout_2 (Dropout)          (None, 6, 6, 64)          0         \n",
      "_________________________________________________________________\n",
      "flatten_1 (Flatten)          (None, 2304)              0         \n",
      "_________________________________________________________________\n",
      "dense_1 (Dense)              (None, 512)               1180160   \n",
      "_________________________________________________________________\n",
      "activation_1 (Activation)    (None, 512)               0         \n",
      "_________________________________________________________________\n",
      "dropout_3 (Dropout)          (None, 512)               0         \n",
      "_________________________________________________________________\n",
      "dense_2 (Dense)              (None, 10)                5130      \n",
      "_________________________________________________________________\n",
      "activation_2 (Activation)    (None, 10)                0         \n",
      "=================================================================\n",
      "Total params: 1,447,178\n",
      "Trainable params: 1,447,178\n",
      "Non-trainable params: 0\n",
      "_________________________________________________________________\n"
     ]
    }
   ],
   "source": [
    "model.summary()"
   ]
  },
  {
   "cell_type": "code",
   "execution_count": 14,
   "metadata": {},
   "outputs": [
    {
     "name": "stdout",
     "output_type": "stream",
     "text": [
      "WARNING:tensorflow:From /home/alex/.virtualenvs/python3_ml/lib/python3.6/site-packages/keras/optimizers.py:793: The name tf.train.Optimizer is deprecated. Please use tf.compat.v1.train.Optimizer instead.\n",
      "\n",
      "WARNING:tensorflow:From /home/alex/.virtualenvs/python3_ml/lib/python3.6/site-packages/keras/backend/tensorflow_backend.py:3576: The name tf.log is deprecated. Please use tf.math.log instead.\n",
      "\n"
     ]
    }
   ],
   "source": [
    "model.compile(loss='categorical_crossentropy',\n",
    "              optimizer='adam',\n",
    "              metrics=['accuracy'])"
   ]
  },
  {
   "cell_type": "code",
   "execution_count": 15,
   "metadata": {},
   "outputs": [
    {
     "name": "stdout",
     "output_type": "stream",
     "text": [
      "WARNING:tensorflow:From /home/alex/.virtualenvs/python3_ml/lib/python3.6/site-packages/tensorflow/python/ops/math_grad.py:1250: add_dispatch_support.<locals>.wrapper (from tensorflow.python.ops.array_ops) is deprecated and will be removed in a future version.\n",
      "Instructions for updating:\n",
      "Use tf.where in 2.0, which has the same broadcast rule as np.where\n",
      "Epoch 1/30\n",
      "313/313 [==============================] - 11s 36ms/step - loss: 1.9372 - acc: 0.2829 - val_loss: 1.7092 - val_acc: 0.3775\n",
      "Epoch 2/30\n",
      "313/313 [==============================] - 9s 30ms/step - loss: 1.7049 - acc: 0.3821 - val_loss: 1.5869 - val_acc: 0.4308\n",
      "Epoch 3/30\n",
      "313/313 [==============================] - 10s 30ms/step - loss: 1.5952 - acc: 0.4255 - val_loss: 1.4766 - val_acc: 0.4722\n",
      "Epoch 4/30\n",
      "313/313 [==============================] - 9s 30ms/step - loss: 1.5319 - acc: 0.4510 - val_loss: 1.4241 - val_acc: 0.4957\n",
      "Epoch 5/30\n",
      "313/313 [==============================] - 10s 30ms/step - loss: 1.4669 - acc: 0.4735 - val_loss: 1.3885 - val_acc: 0.5078\n",
      "Epoch 6/30\n",
      "313/313 [==============================] - 9s 30ms/step - loss: 1.4194 - acc: 0.4908 - val_loss: 1.2654 - val_acc: 0.5468\n",
      "Epoch 7/30\n",
      "313/313 [==============================] - 9s 30ms/step - loss: 1.3643 - acc: 0.5096 - val_loss: 1.2152 - val_acc: 0.5664\n",
      "Epoch 8/30\n",
      "313/313 [==============================] - 9s 30ms/step - loss: 1.3267 - acc: 0.5226 - val_loss: 1.2213 - val_acc: 0.5703\n",
      "Epoch 9/30\n",
      "313/313 [==============================] - 10s 30ms/step - loss: 1.2979 - acc: 0.5361 - val_loss: 1.1514 - val_acc: 0.5912\n",
      "Epoch 10/30\n",
      "313/313 [==============================] - 10s 30ms/step - loss: 1.2654 - acc: 0.5499 - val_loss: 1.2023 - val_acc: 0.5754\n",
      "Epoch 11/30\n",
      "313/313 [==============================] - 10s 30ms/step - loss: 1.2397 - acc: 0.5550 - val_loss: 1.1944 - val_acc: 0.5891\n",
      "Epoch 12/30\n",
      "313/313 [==============================] - 10s 30ms/step - loss: 1.2302 - acc: 0.5599 - val_loss: 1.2740 - val_acc: 0.5702\n",
      "Epoch 13/30\n",
      "313/313 [==============================] - 9s 30ms/step - loss: 1.2093 - acc: 0.5691 - val_loss: 1.0948 - val_acc: 0.6070\n",
      "Epoch 14/30\n",
      "313/313 [==============================] - 9s 30ms/step - loss: 1.1945 - acc: 0.5744 - val_loss: 1.0497 - val_acc: 0.6323\n",
      "Epoch 15/30\n",
      "313/313 [==============================] - 10s 31ms/step - loss: 1.1737 - acc: 0.5846 - val_loss: 1.0504 - val_acc: 0.6359\n",
      "Epoch 16/30\n",
      "313/313 [==============================] - 10s 30ms/step - loss: 1.1619 - acc: 0.5874 - val_loss: 1.0822 - val_acc: 0.6265\n",
      "Epoch 17/30\n",
      "313/313 [==============================] - 10s 30ms/step - loss: 1.1501 - acc: 0.5900 - val_loss: 1.1001 - val_acc: 0.6207\n",
      "Epoch 18/30\n",
      "313/313 [==============================] - 10s 31ms/step - loss: 1.1368 - acc: 0.5969 - val_loss: 1.1442 - val_acc: 0.6054\n",
      "Epoch 19/30\n",
      "313/313 [==============================] - 10s 31ms/step - loss: 1.1310 - acc: 0.5971 - val_loss: 1.1569 - val_acc: 0.6093\n",
      "Epoch 20/30\n",
      "313/313 [==============================] - 10s 30ms/step - loss: 1.1225 - acc: 0.6011 - val_loss: 1.0316 - val_acc: 0.6460\n",
      "Epoch 21/30\n",
      "313/313 [==============================] - 10s 30ms/step - loss: 1.1080 - acc: 0.6097 - val_loss: 1.0449 - val_acc: 0.6462\n",
      "Epoch 22/30\n",
      "313/313 [==============================] - 9s 30ms/step - loss: 1.0981 - acc: 0.6113 - val_loss: 1.1608 - val_acc: 0.6052\n",
      "Epoch 23/30\n",
      "313/313 [==============================] - 10s 30ms/step - loss: 1.0953 - acc: 0.6131 - val_loss: 1.1062 - val_acc: 0.6299\n",
      "Epoch 24/30\n",
      "313/313 [==============================] - 9s 30ms/step - loss: 1.0929 - acc: 0.6144 - val_loss: 1.0049 - val_acc: 0.6574\n",
      "Epoch 25/30\n",
      "313/313 [==============================] - 10s 30ms/step - loss: 1.0786 - acc: 0.6182 - val_loss: 0.9782 - val_acc: 0.6623\n",
      "Epoch 26/30\n",
      "313/313 [==============================] - 9s 30ms/step - loss: 1.0728 - acc: 0.6197 - val_loss: 0.9876 - val_acc: 0.6592\n",
      "Epoch 27/30\n",
      "313/313 [==============================] - 10s 30ms/step - loss: 1.0627 - acc: 0.6207 - val_loss: 1.0309 - val_acc: 0.6461\n",
      "Epoch 28/30\n",
      "313/313 [==============================] - 10s 30ms/step - loss: 1.0604 - acc: 0.6252 - val_loss: 0.9939 - val_acc: 0.6586\n",
      "Epoch 29/30\n",
      "313/313 [==============================] - 10s 30ms/step - loss: 1.0596 - acc: 0.6266 - val_loss: 0.9278 - val_acc: 0.6737\n",
      "Epoch 30/30\n",
      "313/313 [==============================] - 10s 30ms/step - loss: 1.0495 - acc: 0.6299 - val_loss: 0.9996 - val_acc: 0.6583\n"
     ]
    }
   ],
   "source": [
    "history = model.fit_generator(datagen.flow(x_train, y_train,\n",
    "                              batch_size=batch_size),\n",
    "                              epochs=epochs,\n",
    "                              validation_data=(x_val, y_val))"
   ]
  },
  {
   "cell_type": "markdown",
   "metadata": {},
   "source": [
    "accuracy and loss plots"
   ]
  },
  {
   "cell_type": "code",
   "execution_count": 16,
   "metadata": {},
   "outputs": [
    {
     "data": {
      "image/png": "[encoded data removed]",
      "text/plain": [
       "<Figure size 432x288 with 1 Axes>"
      ]
     },
     "metadata": {
      "needs_background": "light"
     },
     "output_type": "display_data"
    },
    {
     "data": {
      "image/png": "[encoded data removed]",
      "text/plain": [
       "<Figure size 432x288 with 1 Axes>"
      ]
     },
     "metadata": {
      "needs_background": "light"
     },
     "output_type": "display_data"
    }
   ],
   "source": [
    "# Plot training & validation accuracy values\n",
    "plt.plot(history.history['acc'])\n",
    "plt.plot(history.history['val_acc'])\n",
    "plt.title('Model accuracy')\n",
    "plt.ylabel('Accuracy')\n",
    "plt.xlabel('Epoch')\n",
    "plt.legend(['Train', 'Test'], loc='upper left')\n",
    "plt.show()\n",
    "\n",
    "# Plot training & validation loss values\n",
    "plt.plot(history.history['loss'])\n",
    "plt.plot(history.history['val_loss'])\n",
    "plt.title('Model loss')\n",
    "plt.ylabel('Loss')\n",
    "plt.xlabel('Epoch')\n",
    "plt.legend(['Train', 'Test'], loc='upper left')\n",
    "plt.show()"
   ]
  },
  {
   "cell_type": "markdown",
   "metadata": {},
   "source": [
    "score & auc"
   ]
  },
  {
   "cell_type": "code",
   "execution_count": 17,
   "metadata": {},
   "outputs": [],
   "source": [
    "from sklearn.metrics import roc_auc_score\n",
    "from sklearn.metrics import roc_curve, auc"
   ]
  },
  {
   "cell_type": "code",
   "execution_count": 18,
   "metadata": {},
   "outputs": [
    {
     "name": "stdout",
     "output_type": "stream",
     "text": [
      "10000/10000 [==============================] - 1s 132us/step\n",
      "Test loss: 1.0015002754211426\n",
      "Test accuracy: 0.6554\n"
     ]
    }
   ],
   "source": [
    "scores = model.evaluate(x_test, y_test, verbose=1)\n",
    "\n",
    "print('Test loss:', scores[0])\n",
    "print('Test accuracy:', scores[1])"
   ]
  },
  {
   "cell_type": "code",
   "execution_count": 19,
   "metadata": {},
   "outputs": [],
   "source": [
    "def class_names():\n",
    "    return ['airplane', 'automobile', 'bird', 'cat', \n",
    "            'deer', 'dog', 'frog', 'horse', 'ship', 'truck']\n",
    "\n",
    "classes = class_names()"
   ]
  },
  {
   "cell_type": "code",
   "execution_count": 20,
   "metadata": {},
   "outputs": [],
   "source": [
    "y_pred = model.predict(x_test)  # predictions "
   ]
  },
  {
   "cell_type": "code",
   "execution_count": 21,
   "metadata": {},
   "outputs": [
    {
     "name": "stdout",
     "output_type": "stream",
     "text": [
      "AUC for airplane : 0.961484\n",
      "AUC for automobile : 0.9821748888888888\n",
      "AUC for bird : 0.9027551111111111\n",
      "AUC for cat : 0.8931178333333333\n",
      "AUC for deer : 0.9344149999999998\n",
      "AUC for dog : 0.9246406666666667\n",
      "AUC for frog : 0.9674836666666666\n",
      "AUC for horse : 0.9552190000000002\n",
      "AUC for ship : 0.9777482222222222\n",
      "AUC for truck : 0.9704458888888889\n"
     ]
    }
   ],
   "source": [
    "for i, label in enumerate(classes):\n",
    "    which_label = label\n",
    "    true_labels  = y_test[:, i]\n",
    "    pred_labels  = y_pred[:, i]\n",
    "    \n",
    "    fpr, tpr, thresholds = roc_curve(y_true  = true_labels,\n",
    "                                                     y_score = pred_labels,\n",
    "                                                     pos_label = 1)\n",
    "    auc_score = auc(fpr, tpr)\n",
    "    \n",
    "    print(\"AUC for {} : {}\".format(which_label, auc_score))"
   ]
  },
  {
   "cell_type": "code",
   "execution_count": null,
   "metadata": {},
   "outputs": [],
   "source": []
  }
 ],
 "metadata": {
  "kernelspec": {
   "display_name": "Python 3",
   "language": "python",
   "name": "python3"
  },
  "language_info": {
   "codemirror_mode": {
    "name": "ipython",
    "version": 3
   },
   "file_extension": ".py",
   "mimetype": "text/x-python",
   "name": "python",
   "nbconvert_exporter": "python",
   "pygments_lexer": "ipython3",
   "version": "3.6.8"
  }
 },
 "nbformat": 4,
 "nbformat_minor": 2
}
